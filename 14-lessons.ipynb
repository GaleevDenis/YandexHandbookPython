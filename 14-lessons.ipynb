{
 "cells": [
  {
   "cell_type": "code",
   "execution_count": 4,
   "metadata": {},
   "outputs": [
    {
     "ename": "TypeError",
     "evalue": "'int' object is not subscriptable",
     "output_type": "error",
     "traceback": [
      "\u001b[1;31m---------------------------------------------------------------------------\u001b[0m",
      "\u001b[1;31mTypeError\u001b[0m                                 Traceback (most recent call last)",
      "Cell \u001b[1;32mIn[4], line 25\u001b[0m\n\u001b[0;32m     22\u001b[0m         \u001b[38;5;28msuper\u001b[39m()\u001b[38;5;241m.\u001b[39m\u001b[38;5;21m__init__\u001b[39m(x\u001b[38;5;241m=\u001b[39mnew[\u001b[38;5;241m0\u001b[39m][\u001b[38;5;241m0\u001b[39m], y\u001b[38;5;241m=\u001b[39mnew[\u001b[38;5;241m0\u001b[39m][\u001b[38;5;241m1\u001b[39m])\n\u001b[0;32m     24\u001b[0m first_point \u001b[38;5;241m=\u001b[39m PatchedPoint((\u001b[38;5;241m2\u001b[39m, \u001b[38;5;241m-\u001b[39m\u001b[38;5;241m7\u001b[39m))\n\u001b[1;32m---> 25\u001b[0m second_point \u001b[38;5;241m=\u001b[39m \u001b[43mPatchedPoint\u001b[49m\u001b[43m(\u001b[49m\u001b[38;5;241;43m7\u001b[39;49m\u001b[43m,\u001b[49m\u001b[43m \u001b[49m\u001b[38;5;241;43m9\u001b[39;49m\u001b[43m)\u001b[49m\n\u001b[0;32m     26\u001b[0m \u001b[38;5;28mprint\u001b[39m(first_point\u001b[38;5;241m.\u001b[39mlength(second_point))\n\u001b[0;32m     27\u001b[0m \u001b[38;5;28mprint\u001b[39m(second_point\u001b[38;5;241m.\u001b[39mlength(first_point))\n",
      "Cell \u001b[1;32mIn[4], line 22\u001b[0m, in \u001b[0;36mPatchedPoint.__init__\u001b[1;34m(self, *new)\u001b[0m\n\u001b[0;32m     21\u001b[0m \u001b[38;5;28;01mdef\u001b[39;00m \u001b[38;5;21m__init__\u001b[39m(\u001b[38;5;28mself\u001b[39m, \u001b[38;5;241m*\u001b[39mnew):\n\u001b[1;32m---> 22\u001b[0m     \u001b[38;5;28msuper\u001b[39m()\u001b[38;5;241m.\u001b[39m\u001b[38;5;21m__init__\u001b[39m(x\u001b[38;5;241m=\u001b[39m\u001b[43mnew\u001b[49m\u001b[43m[\u001b[49m\u001b[38;5;241;43m0\u001b[39;49m\u001b[43m]\u001b[49m\u001b[43m[\u001b[49m\u001b[38;5;241;43m0\u001b[39;49m\u001b[43m]\u001b[49m, y\u001b[38;5;241m=\u001b[39mnew[\u001b[38;5;241m0\u001b[39m][\u001b[38;5;241m1\u001b[39m])\n",
      "\u001b[1;31mTypeError\u001b[0m: 'int' object is not subscriptable"
     ]
    }
   ],
   "source": [
    "# AAA\n",
    "\n",
    "class Point:\n",
    "    \n",
    "    def __init__(self, x=0, y=0):\n",
    "        self.x = x\n",
    "        self.y = y\n",
    "\n",
    "    def move(self, move_x, move_y):\n",
    "        self.x = self.x + move_x\n",
    "        self.y = self.y + move_y\n",
    "        \n",
    "    def length(self, second_point):\n",
    "        range_x = abs(self.x - second_point.x)\n",
    "        range_y = abs(self.y - second_point.y)\n",
    "        range = round((range_x ** 2 + range_y ** 2) ** 0.5, 2)\n",
    "        return range\n",
    "    \n",
    "class PatchedPoint(Point):\n",
    "    \n",
    "    def __init__(self, *new):\n",
    "        super().__init__(x=new[0][0], y=new[0][1])\n",
    "        \n",
    "first_point = PatchedPoint((2, -7))\n",
    "second_point = PatchedPoint(7, 9)\n",
    "print(first_point.length(second_point))\n",
    "print(second_point.length(first_point))"
   ]
  },
  {
   "cell_type": "code",
   "execution_count": 6,
   "metadata": {},
   "outputs": [
    {
     "name": "stdout",
     "output_type": "stream",
     "text": [
      "000001\n"
     ]
    }
   ],
   "source": [
    "a = 1\n",
    "\n",
    "while len(str(a)) < 6:\n",
    "    a = \"0\" + str(a)\n",
    "print(a)\n",
    "\n"
   ]
  },
  {
   "cell_type": "code",
   "execution_count": 35,
   "metadata": {},
   "outputs": [
    {
     "name": "stdout",
     "output_type": "stream",
     "text": [
      "1 6\n"
     ]
    }
   ],
   "source": [
    "# Вариант через стандартный потко ввода\n",
    "\n",
    "len_list = 6 #int(input())\n",
    "listing = [1, 2 , 1, 3, 1, 3] #list(map(int, input().split()))\n",
    "rev_lisiting = list(reversed(listing))\n",
    "maximum = -1\n",
    "max_left_j = 0\n",
    "max_right_l = 0\n",
    "for i in range(len_list):\n",
    "    left_j = listing[i]\n",
    "    right_l = rev_lisiting[i]\n",
    "    maximum = right_l - left_j\n",
    "    if right_l - left_j > maximum:\n",
    "        maximum = right_l - left_j\n",
    "        max_left_j = i + 1\n",
    "        max_right_l = len_list - i\n",
    "    elif right_l - left_j == maximum:\n",
    "        if (max_right_l - max_left_j) > ((len_list - i) - (i + 1)):\n",
    "                max_left_j = i + 1\n",
    "                max_right_l = len_list - i\n",
    "print(max_right_l, max_left_j)"
   ]
  },
  {
   "cell_type": "code",
   "execution_count": 10,
   "metadata": {},
   "outputs": [],
   "source": [
    "# Вариант с потоковым вводом\n",
    "\n",
    "from sys import stdin\n",
    "\n",
    "lines = stdin.readlines()\n",
    "for i in range(len(lines)):\n",
    "    lines[i] = lines[i].rstrip(\"\\n\")\n",
    "len_list = int(lines[0])\n",
    "listing = list(map(int, lines[1].split()))\n",
    "rev_lisiting = list(reversed(listing))\n",
    "maximum = 0\n",
    "max_left_j = 0\n",
    "max_right_l = 0\n",
    "for i in range(len_list):\n",
    "    left_j = listing[i]\n",
    "    right_l = rev_lisiting[i]\n",
    "    if right_l - left_j > maximum:\n",
    "        maximum = right_l - left_j\n",
    "        max_left_j = i + 1\n",
    "        max_right_l = len_list - i\n",
    "print(max_right_l, max_left_j)\n"
   ]
  },
  {
   "cell_type": "code",
   "execution_count": 49,
   "metadata": {},
   "outputs": [
    {
     "name": "stdout",
     "output_type": "stream",
     "text": [
      "6 1\n"
     ]
    }
   ],
   "source": [
    "# Вариант через стандартный потко ввода\n",
    "\n",
    "len_list = 6 #int(input())\n",
    "listing = [1, 2 , 1, 3, 1, 3] #list(map(int, input().split()))\n",
    "maximum = -1\n",
    "index_1 = 0\n",
    "index_2 = 0\n",
    "for i in range(len_list):\n",
    "    for j in range(len_list):\n",
    "         if i != j:    \n",
    "            different = listing[i] - listing[j]\n",
    "            if different > maximum:\n",
    "                maximum = different\n",
    "                index_1 = i\n",
    "                index_2 = j\n",
    "            elif (different == maximum) and (i - j) > (index_1 - index_2):\n",
    "                index_1 = i\n",
    "                index_2 = j\n",
    "print(index_1 + 1, index_2 + 1)"
   ]
  },
  {
   "cell_type": "code",
   "execution_count": 18,
   "metadata": {},
   "outputs": [
    {
     "name": "stdout",
     "output_type": "stream",
     "text": [
      "16.76\n",
      "16.76\n"
     ]
    }
   ],
   "source": [
    "# А решена\n",
    "\n",
    "class Point:\n",
    "\n",
    "    def __init__(self, x, y):\n",
    "        self.x = x\n",
    "        self.y = y\n",
    "\n",
    "    def move(self, move_x, move_y):\n",
    "        self.x = self.x + move_x\n",
    "        self.y = self.y + move_y\n",
    "\n",
    "    def length(self, second_point):\n",
    "        len_for_x = abs(self.x - second_point.x)\n",
    "        len_for_y = abs(self.y - second_point.y)\n",
    "        range = round((len_for_x ** 2 + len_for_y ** 2) ** 0.5, 2)\n",
    "        return range\n",
    "    \n",
    "\n",
    "# class PatchedPoint(Point):\n",
    "\n",
    "#     def __init__(self, *args):\n",
    "#         match len(args):\n",
    "#             case 0:\n",
    "#                 self.x = 0\n",
    "#                 self.y = 0\n",
    "#             case 1:\n",
    "#                 self.x, self.y = args[0]\n",
    "#             case 2:\n",
    "#                 self.x = args[0]\n",
    "#                 self.y = args[1]\n",
    "\n",
    "class PatchedPoint(Point):\n",
    "\n",
    "    def __init__(self, *args):\n",
    "        match len(args):\n",
    "            case 0:\n",
    "                super().__init__(0, 0)\n",
    "            case 1:\n",
    "                super().__init__(*args[0])\n",
    "            case 2:\n",
    "                super().__init__(args[0], args[1])                \n",
    "        \n",
    "\n",
    "first_point = PatchedPoint((2, -7))\n",
    "second_point = PatchedPoint(7, 9)\n",
    "print(first_point.length(second_point))\n",
    "print(second_point.length(first_point))"
   ]
  },
  {
   "cell_type": "code",
   "execution_count": 31,
   "metadata": {},
   "outputs": [
    {
     "name": "stdout",
     "output_type": "stream",
     "text": [
      "красный\n",
      "Нарисован рисунок цветом 'красный'.\n",
      "Ручкой цвета 'красный' нельзя подписать документ.\n",
      "Нарисован рисунок цветом 'красный'.\n",
      "Ручкой цвета 'красный' нельзя подписать документ.\n"
     ]
    }
   ],
   "source": [
    "class Pencil:\n",
    "\n",
    "    def __init__(self, color=\"серый\"):\n",
    "        self.color = color\n",
    "\n",
    "    def draw_picture(self):\n",
    "        return f\"Нарисован рисунок цветом '{self.color}'.\"\n",
    "\n",
    "\n",
    "class Pen(Pencil):\n",
    "\n",
    "    def __init__(self, pen_type, color1 = \"красный\"):\n",
    "        super().__init__(color1)\n",
    "        self.pen_type = pen_type\n",
    "\n",
    "    def sign_document(self):\n",
    "        if self.color not in (\"синий\", \"чёрный\", \"фиолетовый\"):\n",
    "            return f\"Ручкой цвета '{self.color}' нельзя подписать документ.\"\n",
    "        elif self.pen_type == \"гелевая\":\n",
    "            return f\"Ручкой типа '{self.pen_type}' нельзя подписать документ.\"\n",
    "        return f\"Подписан документ.\"\n",
    "    \n",
    "blue_ball_pen = Pen(pen_type=\"шариковая\")\n",
    "print(blue_ball_pen.color)\n",
    "print(blue_ball_pen.draw_picture())\n",
    "print(blue_ball_pen.sign_document())\n",
    "blue_gel_pen = Pen(pen_type=\"гелевая\")\n",
    "print(blue_gel_pen.draw_picture())\n",
    "print(blue_gel_pen.sign_document())"
   ]
  },
  {
   "cell_type": "code",
   "execution_count": 40,
   "metadata": {},
   "outputs": [
    {
     "name": "stdout",
     "output_type": "stream",
     "text": [
      "(2, -7) (7, 9)\n",
      "PatchedPoint(2, -7) PatchedPoint(7, 9)\n"
     ]
    }
   ],
   "source": [
    "# Б решена\n",
    "\n",
    "class Point:\n",
    "\n",
    "    def __init__(self, x, y):\n",
    "        self.x = x\n",
    "        self.y = y\n",
    "\n",
    "    def move(self, move_x, move_y):\n",
    "        self.x = self.x + move_x\n",
    "        self.y = self.y + move_y\n",
    "\n",
    "    def length(self, second_point):\n",
    "        len_for_x = abs(self.x - second_point.x)\n",
    "        len_for_y = abs(self.y - second_point.y)\n",
    "        range = round((len_for_x ** 2 + len_for_y ** 2) ** 0.5, 2)\n",
    "        return range\n",
    "\n",
    "\n",
    "class PatchedPoint(Point):\n",
    "\n",
    "    def __init__(self, *args):\n",
    "        match len(args):\n",
    "            case 0:\n",
    "                super().__init__(0, 0)\n",
    "            case 1:\n",
    "                super().__init__(*args[0])\n",
    "            case 2:\n",
    "                super().__init__(args[0], args[1])\n",
    "\n",
    "    def __str__(self) -> str:\n",
    "        return f\"{self.x, self.y}\"\n",
    "\n",
    "    def __repr__(self) -> str:\n",
    "        return f\"PatchedPoint{self.x, self.y}\"    \n",
    "        \n",
    "\n",
    "first_point = PatchedPoint((2, -7))\n",
    "second_point = PatchedPoint(7, 9)\n",
    "print(*map(str, (first_point, second_point)))\n",
    "print(*map(repr, (first_point, second_point)))"
   ]
  },
  {
   "cell_type": "code",
   "execution_count": 135,
   "metadata": {},
   "outputs": [
    {
     "ename": "TypeError",
     "evalue": "type.__new__() argument 2 must be tuple, not str",
     "output_type": "error",
     "traceback": [
      "\u001b[1;31m---------------------------------------------------------------------------\u001b[0m",
      "\u001b[1;31mTypeError\u001b[0m                                 Traceback (most recent call last)",
      "Cell \u001b[1;32mIn[135], line 2\u001b[0m\n\u001b[0;32m      1\u001b[0m x \u001b[38;5;241m=\u001b[39m \u001b[38;5;28mmap\u001b[39m(\u001b[38;5;28mstr\u001b[39m, \u001b[38;5;28mrange\u001b[39m(\u001b[38;5;241m3\u001b[39m))\n\u001b[1;32m----> 2\u001b[0m \u001b[38;5;28;43mtype\u001b[39;49m\u001b[43m(\u001b[49m\u001b[38;5;241;43m*\u001b[39;49m\u001b[43mx\u001b[49m\u001b[43m)\u001b[49m\n",
      "\u001b[1;31mTypeError\u001b[0m: type.__new__() argument 2 must be tuple, not str"
     ]
    }
   ],
   "source": [
    "x = map(str, range(3))\n",
    "print(*x)"
   ]
  },
  {
   "cell_type": "code",
   "execution_count": 58,
   "metadata": {},
   "outputs": [
    {
     "name": "stdout",
     "output_type": "stream",
     "text": [
      "1307815130816\n",
      "[0]\n",
      "1307814305472\n",
      "[1, 2, 3, 0]\n",
      "1307815898752\n",
      "[1]\n"
     ]
    }
   ],
   "source": [
    "def add_value(x, list_arg=None):\n",
    "    if list_arg is None:\n",
    "        list_arg = []\n",
    "    list_arg += [x]\n",
    "    print(id(list_arg))\n",
    "    return list_arg\n",
    "\n",
    "\n",
    "print(add_value(0))\n",
    "print(add_value(0, [1, 2, 3]))\n",
    "print(add_value(1))"
   ]
  },
  {
   "cell_type": "code",
   "execution_count": 61,
   "metadata": {},
   "outputs": [
    {
     "ename": "TypeError",
     "evalue": "final_price() got multiple values for argument 'discount'",
     "output_type": "error",
     "traceback": [
      "\u001b[1;31m---------------------------------------------------------------------------\u001b[0m",
      "\u001b[1;31mTypeError\u001b[0m                                 Traceback (most recent call last)",
      "Cell \u001b[1;32mIn[61], line 5\u001b[0m\n\u001b[0;32m      1\u001b[0m \u001b[38;5;28;01mdef\u001b[39;00m \u001b[38;5;21mfinal_price\u001b[39m(price, discount\u001b[38;5;241m=\u001b[39m\u001b[38;5;241m1\u001b[39m, prin\u001b[38;5;241m=\u001b[39m\u001b[38;5;241m0\u001b[39m):\n\u001b[0;32m      2\u001b[0m     \u001b[38;5;28;01mreturn\u001b[39;00m price \u001b[38;5;241m-\u001b[39m price \u001b[38;5;241m*\u001b[39m discount \u001b[38;5;241m/\u001b[39m \u001b[38;5;241m100\u001b[39m\n\u001b[1;32m----> 5\u001b[0m \u001b[38;5;28mprint\u001b[39m(\u001b[43mfinal_price\u001b[49m\u001b[43m(\u001b[49m\u001b[38;5;241;43m1000\u001b[39;49m\u001b[43m,\u001b[49m\u001b[43m \u001b[49m\u001b[38;5;241;43m2\u001b[39;49m\u001b[43m,\u001b[49m\u001b[43m \u001b[49m\u001b[43mdiscount\u001b[49m\u001b[38;5;241;43m=\u001b[39;49m\u001b[38;5;241;43m5\u001b[39;49m\u001b[43m)\u001b[49m)\n\u001b[0;32m      6\u001b[0m \u001b[38;5;28mprint\u001b[39m(final_price(discount\u001b[38;5;241m=\u001b[39m\u001b[38;5;241m10\u001b[39m, price\u001b[38;5;241m=\u001b[39m\u001b[38;5;241m1000\u001b[39m))\n",
      "\u001b[1;31mTypeError\u001b[0m: final_price() got multiple values for argument 'discount'"
     ]
    }
   ],
   "source": [
    "def final_price(price, discount=1, prin=0):\n",
    "    return price - price * discount / 100\n",
    "\n",
    "\n",
    "print(final_price(1000, 2, discount=5))\n",
    "print(final_price(discount=10, price=1000))"
   ]
  },
  {
   "cell_type": "code",
   "execution_count": 62,
   "metadata": {},
   "outputs": [
    {
     "name": "stdout",
     "output_type": "stream",
     "text": [
      "[95.0, 190.0, 285.0, 380.0, 475.0]\n",
      "[190.0, 285.0, 380.0, 475.0]\n",
      "[95.0, 190.0]\n",
      "[190.0, 285.0]\n"
     ]
    }
   ],
   "source": [
    "def final_price(*prices, discount=1, **kwargs):\n",
    "    low = kwargs.get(\"price_low\", min(prices))\n",
    "    high = kwargs.get(\"price_high\", max(prices))\n",
    "    return [price - price * discount / 100 for price in prices if low <= price <= high]\n",
    "\n",
    "\n",
    "print(final_price(100, 200, 300, 400, 500, discount=5))\n",
    "print(final_price(100, 200, 300, 400, 500, discount=5, price_low=200))\n",
    "print(final_price(100, 200, 300, 400, 500, discount=5, price_high=200))\n",
    "print(final_price(100, 200, 300, 400, 500, discount=5, price_low=200, price_high=350))"
   ]
  },
  {
   "cell_type": "code",
   "execution_count": 83,
   "metadata": {},
   "outputs": [
    {
     "name": "stdout",
     "output_type": "stream",
     "text": [
      "['1', '2', '3', '4', '5']\n",
      "<class 'list'>\n",
      "<class 'str'>\n",
      "1, 2, 3, 4, 5\n"
     ]
    }
   ],
   "source": [
    "a = \"1, 2, 3, 4, 5\"\n",
    "a = a.split(\", \")\n",
    "print(a)\n",
    "print(type(a))\n",
    "b = \", \".join(a)\n",
    "print(type(b))\n",
    "print(b)"
   ]
  },
  {
   "cell_type": "code",
   "execution_count": 107,
   "metadata": {},
   "outputs": [
    {
     "name": "stdout",
     "output_type": "stream",
     "text": [
      "0, 1, 4, 9, 16\n"
     ]
    }
   ],
   "source": [
    "def square(x):\n",
    "    return x ** 2\n",
    "\n",
    "    \n",
    "result = map(square, range(5))\n",
    "print(\", \".join(str(x) for x in result))"
   ]
  },
  {
   "cell_type": "code",
   "execution_count": 119,
   "metadata": {},
   "outputs": [
    {
     "name": "stdout",
     "output_type": "stream",
     "text": [
      "[0, 1, 2, 3, 4]\n"
     ]
    }
   ],
   "source": [
    "a = range(5)\n",
    "b = [*a]\n",
    "print(b)"
   ]
  },
  {
   "cell_type": "code",
   "execution_count": 159,
   "metadata": {},
   "outputs": [
    {
     "name": "stdout",
     "output_type": "stream",
     "text": [
      "(0, 0)\n",
      "(0, 0) (2, -3) False\n"
     ]
    }
   ],
   "source": [
    "# C решена\n",
    "\n",
    "class Point:\n",
    "\n",
    "    def __init__(self, x, y):\n",
    "        self.x = x\n",
    "        self.y = y\n",
    "\n",
    "    def move(self, move_x, move_y):\n",
    "        self.x = self.x + move_x\n",
    "        self.y = self.y + move_y\n",
    "\n",
    "    def length(self, second_point):\n",
    "        len_for_x = abs(self.x - second_point.x)\n",
    "        len_for_y = abs(self.y - second_point.y)\n",
    "        range = round((len_for_x ** 2 + len_for_y ** 2) ** 0.5, 2)\n",
    "        return range\n",
    "\n",
    "\n",
    "class PatchedPoint(Point):\n",
    "\n",
    "    def __init__(self, *args):\n",
    "        match len(args):\n",
    "            case 0:\n",
    "                super().__init__(0, 0)\n",
    "            case 1:\n",
    "                super().__init__(*args[0])\n",
    "            case 2:\n",
    "                super().__init__(args[0], args[1])\n",
    "\n",
    "    def __str__(self) -> str:\n",
    "        return f\"{self.x, self.y}\"\n",
    "\n",
    "    def __repr__(self) -> str:\n",
    "        return f\"PatchedPoint{self.x, self.y}\"\n",
    "\n",
    "    def __add__(self, other):\n",
    "        return PatchedPoint(self.x + other[0], self.y + other[1])\n",
    "    \n",
    "    def __iadd__(self, other):\n",
    "        self.x += other[0]\n",
    "        self.y += other[1]\n",
    "        return self\n",
    "    \n",
    "        \n",
    "\n",
    "point = PatchedPoint()\n",
    "print(point)\n",
    "new_point = point + (2, -3)\n",
    "print(point, new_point, point is new_point)"
   ]
  },
  {
   "cell_type": "code",
   "execution_count": 209,
   "metadata": {},
   "outputs": [
    {
     "name": "stdout",
     "output_type": "stream",
     "text": [
      "1/3 Fraction(1, 3)\n",
      "1/2 Fraction(1, 2)\n"
     ]
    }
   ],
   "source": [
    "# D решена\n",
    "\n",
    "class Fraction():\n",
    "\n",
    "    def __init__(self, *args):\n",
    "        if len(args) == 1:\n",
    "            self.numer = int((args[0]).split(\"/\")[0])\n",
    "            self.denumer = int((args[0]).split(\"/\")[1])\n",
    "        else:\n",
    "            self.numer = int((args[0]))\n",
    "            self.denumer = int((args[1]))\n",
    "        self.numer, self.denumer = int(self.numer / self.__nod()), int(self.denumer / self.__nod())\n",
    "\n",
    "    def __nod(self):\n",
    "        a = self.numer\n",
    "        k = 0\n",
    "        for i in range(1):\n",
    "            b = self.denumer\n",
    "            if a > b:\n",
    "                while a % b != 0:\n",
    "                    k = b\n",
    "                    b = a % b\n",
    "                    a = k\n",
    "                a = b\n",
    "            else:\n",
    "                while b % a != 0:\n",
    "                    k = a\n",
    "                    a = b % a\n",
    "                    b = k\n",
    "                a = a\n",
    "        return a\n",
    "    \n",
    "    def numerator(self, number=None):\n",
    "        if number is None:\n",
    "            return self.numer\n",
    "        else:\n",
    "            self.numer = number\n",
    "            self.numer, self.denumer = int(self.numer / self.__nod()), int(self.denumer / self.__nod())\n",
    "            return self.numer\n",
    "        \n",
    "    def denominator(self, number=None):\n",
    "        if number is None:\n",
    "            return self.denumer\n",
    "        else:\n",
    "            self.denumer = number\n",
    "            self.numer, self.denumer = int(self.numer / self.__nod()), int(self.denumer / self.__nod())\n",
    "            return self.denumer\n",
    "        \n",
    "    def __str__(self) -> str:\n",
    "        return f\"{self.numer}/{self.denumer}\"\n",
    "    \n",
    "    def __repr__(self) -> str:\n",
    "        return f\"Fraction{self.numer, self.denumer}\"\n",
    "\n",
    "\n",
    "fraction = Fraction(3, 9)\n",
    "print(fraction, repr(fraction))\n",
    "fraction = Fraction('7/14')\n",
    "print(fraction, repr(fraction))"
   ]
  },
  {
   "cell_type": "code",
   "execution_count": 186,
   "metadata": {},
   "outputs": [
    {
     "name": "stdout",
     "output_type": "stream",
     "text": [
      "2\n"
     ]
    }
   ],
   "source": [
    "a = int(input()) \n",
    "k = 0\n",
    "for i in range(1):\n",
    "    b = int(input())\n",
    "    if a > b:\n",
    "        while a % b != 0:\n",
    "            k = b\n",
    "            b = a % b\n",
    "            a = k\n",
    "        a = b\n",
    "    else:\n",
    "        while b % a != 0:\n",
    "            k = a\n",
    "            a = b % a\n",
    "            b = k\n",
    "        a = a\n",
    "print(a)"
   ]
  },
  {
   "cell_type": "code",
   "execution_count": null,
   "metadata": {},
   "outputs": [],
   "source": []
  }
 ],
 "metadata": {
  "kernelspec": {
   "display_name": "Python 3",
   "language": "python",
   "name": "python3"
  },
  "language_info": {
   "codemirror_mode": {
    "name": "ipython",
    "version": 3
   },
   "file_extension": ".py",
   "mimetype": "text/x-python",
   "name": "python",
   "nbconvert_exporter": "python",
   "pygments_lexer": "ipython3",
   "version": "3.11.9"
  }
 },
 "nbformat": 4,
 "nbformat_minor": 2
}
