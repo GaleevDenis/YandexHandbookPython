{
 "cells": [
  {
   "cell_type": "code",
   "execution_count": 15,
   "metadata": {},
   "outputs": [
    {
     "name": "stdout",
     "output_type": "stream",
     "text": [
      "123 456 789\n"
     ]
    }
   ],
   "source": [
    "def num(price, discount, slice):\n",
    "    return print(price, discount, slice)\n",
    "\n",
    "num(123, 456, 789)"
   ]
  },
  {
   "cell_type": "code",
   "execution_count": 17,
   "metadata": {},
   "outputs": [
    {
     "name": "stdout",
     "output_type": "stream",
     "text": [
      "[95.0, 190.0, 285.0, 380.0, 475.0]\n",
      "[190.0, 285.0, 380.0, 475.0]\n",
      "[95.0, 190.0]\n",
      "[190.0, 285.0]\n"
     ]
    }
   ],
   "source": [
    "def final_price(*prices, discount=1, **kwargs):\n",
    "    low = kwargs.get(\"price_low\", min(prices))\n",
    "    high = kwargs.get(\"price_high\", max(prices))\n",
    "    return [price - price * discount / 100 for price in prices if low <= price <= high]\n",
    "\n",
    "print(final_price(100, 200, 300, 400, 500, discount=5))\n",
    "print(final_price(100, 200, 300, 400, 500, discount=5, price_low=200))\n",
    "print(final_price(100, 200, 300, 400, 500, discount=5, price_high=200))\n",
    "print(final_price(100, 200, 300, 400, 500, discount=5, price_low=200, price_high=350))"
   ]
  },
  {
   "cell_type": "code",
   "execution_count": 22,
   "metadata": {},
   "outputs": [
    {
     "name": "stdout",
     "output_type": "stream",
     "text": [
      "[123, 142, 3445345]\n"
     ]
    }
   ],
   "source": [
    "numbers = list(map(int, input().split()))\n",
    "print(numbers)"
   ]
  },
  {
   "cell_type": "code",
   "execution_count": 42,
   "metadata": {},
   "outputs": [
    {
     "name": "stdout",
     "output_type": "stream",
     "text": [
      "['5', '6']\n"
     ]
    }
   ],
   "source": [
    "result = filter(lambda x: x > 0, [-1, 5, 6, -10, 0])\n",
    "print(list(str(x) for x in result))"
   ]
  },
  {
   "cell_type": "code",
   "execution_count": 29,
   "metadata": {},
   "outputs": [
    {
     "name": "stdout",
     "output_type": "stream",
     "text": [
      "['abcd', 'acde', 'ab', 'ba']\n"
     ]
    }
   ],
   "source": [
    "lines = [\"abcd\", \"ab\", \"ba\", \"acde\"]\n",
    "print(sorted(lines, key = lambda x: (-len(x), x)))"
   ]
  },
  {
   "cell_type": "code",
   "execution_count": 37,
   "metadata": {},
   "outputs": [
    {
     "name": "stdout",
     "output_type": "stream",
     "text": [
      "abcd\n"
     ]
    }
   ],
   "source": [
    "lines = [\"abcd\", \"ab\", \"ba\", \"acde\"]\n",
    "print(min(lines, key=lambda x: (-len(x), len)))"
   ]
  },
  {
   "cell_type": "code",
   "execution_count": 39,
   "metadata": {},
   "outputs": [
    {
     "name": "stdout",
     "output_type": "stream",
     "text": [
      "[5, 6]\n"
     ]
    }
   ],
   "source": [
    "result = (x for x in [-1, 5, 6, -10, 0] if x >0)\n",
    "print(list(result))"
   ]
  },
  {
   "cell_type": "code",
   "execution_count": 46,
   "metadata": {},
   "outputs": [
    {
     "name": "stdout",
     "output_type": "stream",
     "text": [
      "[1, 1, 1, 1, 1]\n"
     ]
    }
   ],
   "source": [
    "# A решена\n",
    "\n",
    "def make_list(length, value=0):\n",
    "    return [value for x in range(length)]\n",
    "\n",
    "\n",
    "result = make_list(5, 1)\n",
    "print(result)"
   ]
  },
  {
   "cell_type": "code",
   "execution_count": 49,
   "metadata": {},
   "outputs": [
    {
     "name": "stdout",
     "output_type": "stream",
     "text": [
      "[[1, 1, 1, 1], [1, 1, 1, 1]]\n"
     ]
    }
   ],
   "source": [
    "# B Решена\n",
    "\n",
    "def make_matrix(size, value=0):\n",
    "    if type(size) is tuple:\n",
    "        return [[value for x in range(size[0])] for y in range(size[1])]\n",
    "    else:\n",
    "        return [[value for x in range(size)] for y in range(size)]\n",
    "    \n",
    "result = make_matrix((4, 2), 1)\n",
    "print(result)"
   ]
  },
  {
   "cell_type": "code",
   "execution_count": null,
   "metadata": {},
   "outputs": [],
   "source": [
    "# С не решена\n",
    "\n",
    "def gcd(*num):\n",
    "    if len(num) == 1:\n",
    "        return num\n",
    "    else:\n",
    "        for (a, b) in num:\n",
    "            while b != 0: \n",
    "                a, b = b, a % b \n",
    "            return a"
   ]
  },
  {
   "cell_type": "code",
   "execution_count": null,
   "metadata": {},
   "outputs": [],
   "source": [
    "# D Решена\n",
    "\n",
    "def month(num, lang=\"ru\"):\n",
    "    dic = {\"en\": [\"January\", \"February\", \"March\", \"April\", \"May\", \"June\", \"July\", \"August\",\n",
    "           \"September\", \"October\", \"November\", \"December\"],\n",
    "           \"ru\": [\"Январь\", \"Февраль\", \"Март\", \"Апрель\", \"Май\", \"Июнь\", \"Июль\", \"Август\", \"Сентябрь\",\n",
    "                  \"Октябрь\", \"Ноябрь\", \"Декабрь\"]\n",
    "           }\n",
    "    return dic[lang][num - 1]"
   ]
  },
  {
   "cell_type": "code",
   "execution_count": 57,
   "metadata": {},
   "outputs": [
    {
     "name": "stdout",
     "output_type": "stream",
     "text": [
      "7, 3, 1, hello, (1, 2, 3)!\n"
     ]
    }
   ],
   "source": [
    "# E Решена\n",
    "\n",
    "def to_string(*things, sep=\" \", end=\"\\n\"):\n",
    "    return ((sep).join([str(x) for x in things])) + end\n",
    "    \n",
    "data = [7, 3, 1, \"hello\", (1, 2, 3)]\n",
    "result = to_string(*data, sep=\", \", end=\"!\")\n",
    "print(result)"
   ]
  },
  {
   "cell_type": "code",
   "execution_count": 26,
   "metadata": {},
   "outputs": [
    {
     "ename": "NameError",
     "evalue": "name 'Капучино' is not defined",
     "output_type": "error",
     "traceback": [
      "\u001b[1;31m---------------------------------------------------------------------------\u001b[0m",
      "\u001b[1;31mNameError\u001b[0m                                 Traceback (most recent call last)",
      "\u001b[1;32mc:\\Users\\user\\YandexDisk\\Хендбук от яндекс\\11-lessons.ipynb Ячейка 13\u001b[0m line \u001b[0;36m3\n\u001b[0;32m     <a href='vscode-notebook-cell:/c%3A/Users/user/YandexDisk/%D0%A5%D0%B5%D0%BD%D0%B4%D0%B1%D1%83%D0%BA%20%D0%BE%D1%82%20%D1%8F%D0%BD%D0%B4%D0%B5%D0%BA%D1%81/11-lessons.ipynb#X15sZmlsZQ%3D%3D?line=28'>29</a>\u001b[0m         \u001b[39mreturn\u001b[39;00m \u001b[39m\"\u001b[39m\u001b[39mК сожалению, не можем предложить Вам напиток\u001b[39m\u001b[39m\"\u001b[39m\n\u001b[0;32m     <a href='vscode-notebook-cell:/c%3A/Users/user/YandexDisk/%D0%A5%D0%B5%D0%BD%D0%B4%D0%B1%D1%83%D0%BA%20%D0%BE%D1%82%20%D1%8F%D0%BD%D0%B4%D0%B5%D0%BA%D1%81/11-lessons.ipynb#X15sZmlsZQ%3D%3D?line=30'>31</a>\u001b[0m k \u001b[39m=\u001b[39m [\u001b[39m\"\u001b[39m\u001b[39mКапучино\u001b[39m\u001b[39m\"\u001b[39m, \u001b[39m\"\u001b[39m\u001b[39mМакиато\u001b[39m\u001b[39m\"\u001b[39m, \u001b[39m\"\u001b[39m\u001b[39mЭспрессо\u001b[39m\u001b[39m\"\u001b[39m]\n\u001b[1;32m---> <a href='vscode-notebook-cell:/c%3A/Users/user/YandexDisk/%D0%A5%D0%B5%D0%BD%D0%B4%D0%B1%D1%83%D0%BA%20%D0%BE%D1%82%20%D1%8F%D0%BD%D0%B4%D0%B5%D0%BA%D1%81/11-lessons.ipynb#X15sZmlsZQ%3D%3D?line=31'>32</a>\u001b[0m \u001b[39mprint\u001b[39m(\u001b[39mf\u001b[39m\u001b[39m\"\u001b[39m\u001b[39m{\u001b[39;00m\u001b[39mround\u001b[39m(timeit(order(k),\u001b[39m \u001b[39;49m\u001b[39mglobals\u001b[39;49m\u001b[39m=\u001b[39;49m\u001b[39mglobals\u001b[39;49m())\u001b[39m \u001b[39m\u001b[39m/\u001b[39m\u001b[39m \u001b[39m\u001b[39m10\u001b[39m,\u001b[39m \u001b[39m\u001b[39m6\u001b[39m)\u001b[39m}\u001b[39;00m\u001b[39m c.\u001b[39m\u001b[39m\"\u001b[39m)\n\u001b[0;32m     <a href='vscode-notebook-cell:/c%3A/Users/user/YandexDisk/%D0%A5%D0%B5%D0%BD%D0%B4%D0%B1%D1%83%D0%BA%20%D0%BE%D1%82%20%D1%8F%D0%BD%D0%B4%D0%B5%D0%BA%D1%81/11-lessons.ipynb#X15sZmlsZQ%3D%3D?line=32'>33</a>\u001b[0m \u001b[39mprint\u001b[39m(order(\u001b[39m\"\u001b[39m\u001b[39mКапучино\u001b[39m\u001b[39m\"\u001b[39m, \u001b[39m\"\u001b[39m\u001b[39mМакиато\u001b[39m\u001b[39m\"\u001b[39m, \u001b[39m\"\u001b[39m\u001b[39mЭспрессо\u001b[39m\u001b[39m\"\u001b[39m))\n\u001b[0;32m     <a href='vscode-notebook-cell:/c%3A/Users/user/YandexDisk/%D0%A5%D0%B5%D0%BD%D0%B4%D0%B1%D1%83%D0%BA%20%D0%BE%D1%82%20%D1%8F%D0%BD%D0%B4%D0%B5%D0%BA%D1%81/11-lessons.ipynb#X15sZmlsZQ%3D%3D?line=33'>34</a>\u001b[0m \u001b[39mprint\u001b[39m(order(\u001b[39m\"\u001b[39m\u001b[39mКапучино\u001b[39m\u001b[39m\"\u001b[39m, \u001b[39m\"\u001b[39m\u001b[39mМакиато\u001b[39m\u001b[39m\"\u001b[39m, \u001b[39m\"\u001b[39m\u001b[39mЭспрессо\u001b[39m\u001b[39m\"\u001b[39m))\n",
      "File \u001b[1;32mc:\\Program Files (x86)\\Microsoft Visual Studio\\Shared\\Python39_64\\lib\\timeit.py:233\u001b[0m, in \u001b[0;36mtimeit\u001b[1;34m(stmt, setup, timer, number, globals)\u001b[0m\n\u001b[0;32m    230\u001b[0m \u001b[39mdef\u001b[39;00m \u001b[39mtimeit\u001b[39m(stmt\u001b[39m=\u001b[39m\u001b[39m\"\u001b[39m\u001b[39mpass\u001b[39m\u001b[39m\"\u001b[39m, setup\u001b[39m=\u001b[39m\u001b[39m\"\u001b[39m\u001b[39mpass\u001b[39m\u001b[39m\"\u001b[39m, timer\u001b[39m=\u001b[39mdefault_timer,\n\u001b[0;32m    231\u001b[0m            number\u001b[39m=\u001b[39mdefault_number, \u001b[39mglobals\u001b[39m\u001b[39m=\u001b[39m\u001b[39mNone\u001b[39;00m):\n\u001b[0;32m    232\u001b[0m \u001b[39m    \u001b[39m\u001b[39m\"\"\"Convenience function to create Timer object and call timeit method.\"\"\"\u001b[39;00m\n\u001b[1;32m--> 233\u001b[0m     \u001b[39mreturn\u001b[39;00m Timer(stmt, setup, timer, \u001b[39mglobals\u001b[39;49m)\u001b[39m.\u001b[39;49mtimeit(number)\n",
      "File \u001b[1;32mc:\\Program Files (x86)\\Microsoft Visual Studio\\Shared\\Python39_64\\lib\\timeit.py:177\u001b[0m, in \u001b[0;36mTimer.timeit\u001b[1;34m(self, number)\u001b[0m\n\u001b[0;32m    175\u001b[0m gc\u001b[39m.\u001b[39mdisable()\n\u001b[0;32m    176\u001b[0m \u001b[39mtry\u001b[39;00m:\n\u001b[1;32m--> 177\u001b[0m     timing \u001b[39m=\u001b[39m \u001b[39mself\u001b[39;49m\u001b[39m.\u001b[39;49minner(it, \u001b[39mself\u001b[39;49m\u001b[39m.\u001b[39;49mtimer)\n\u001b[0;32m    178\u001b[0m \u001b[39mfinally\u001b[39;00m:\n\u001b[0;32m    179\u001b[0m     \u001b[39mif\u001b[39;00m gcold:\n",
      "File \u001b[1;32m<timeit-src>:6\u001b[0m, in \u001b[0;36minner\u001b[1;34m(_it, _timer)\u001b[0m\n",
      "\u001b[1;31mNameError\u001b[0m: name 'Капучино' is not defined"
     ]
    }
   ],
   "source": [
    "# F Решено\n",
    "\n",
    "in_stock = {\"coffee\": 4, \"milk\": 4, \"cream\": 0}\n",
    "\n",
    "def order(*prefer):\n",
    "    global in_stock\n",
    "    dic = {\"Эспрессо\": {\"coffee\": 1},\n",
    "           \"Капучино\": {\"coffee\": 1, \"milk\": 3},\n",
    "           \"Макиато\": {\"coffee\": 2, \"milk\": 1},\n",
    "           \"Кофе по-венски\": {\"coffee\": 1, \"cream\": 2},\n",
    "           \"Латте Макиато\": {\"coffee\": 1, \"milk\": 2, \"cream\": 1},\n",
    "           \"Кон Панна\": {\"coffee\": 1, \"cream\": 1}\n",
    "           }\n",
    "    for i in prefer:\n",
    "        x = list(filter(lambda x: x, dic[i]))\n",
    "        for z in x:\n",
    "            led = True\n",
    "            if dic[i][z] <= in_stock[z]:\n",
    "                pass\n",
    "            else:\n",
    "                led = False\n",
    "                break\n",
    "        if led is not False:\n",
    "            for z in x:\n",
    "                in_stock[z] = in_stock[z] - dic[i][z]\n",
    "            return i\n",
    "    if led is False:\n",
    "        return \"К сожалению, не можем предложить Вам напиток\"\n",
    "    \n",
    "print(order(\"Капучино\", \"Макиато\", \"Эспрессо\"))\n",
    "print(order(\"Капучино\", \"Макиато\", \"Эспрессо\"))\n",
    "print(order(\"Капучино\", \"Макиато\", \"Эспрессо\"))"
   ]
  },
  {
   "cell_type": "code",
   "execution_count": 67,
   "metadata": {},
   "outputs": [
    {
     "name": "stdout",
     "output_type": "stream",
     "text": [
      "(48.7, 40.13) (24.35, 20.07)\n"
     ]
    }
   ],
   "source": [
    "# G Решено\n",
    "\n",
    "def enter_results(*values, list1=[]):\n",
    "    list1 += list(values)\n",
    "    return list1\n",
    "\n",
    "\n",
    "def get_sum():\n",
    "    k1, k2 = 0, 0\n",
    "    list1 = list(enter_results())\n",
    "    for i in range(len(list1)):\n",
    "        if i % 2 != 0:\n",
    "            k1 += list1[i]\n",
    "        else:\n",
    "            k2 += list1[i]\n",
    "    return (round(k2, 2), round(k1, 2))\n",
    "\n",
    "\n",
    "def get_average():\n",
    "    znach = list(get_sum())\n",
    "    znach[0] = round(znach[0] / (len(list(enter_results())) // 2), 2)\n",
    "    znach[1] = round(znach[1] / (len(list(enter_results())) // 2), 2)\n",
    "    return tuple(znach)\n",
    "\n",
    "enter_results(3.5, 2.14, 45.2, 37.99)\n",
    "print(get_sum(), get_average())"
   ]
  },
  {
   "cell_type": "code",
   "execution_count": 69,
   "metadata": {},
   "outputs": [
    {
     "name": "stdout",
     "output_type": "stream",
     "text": [
      "['во', 'Python', 'многих', 'Яндекс', 'проектах', 'использует']\n"
     ]
    }
   ],
   "source": [
    "# H Решено\n",
    "string = 'Яндекс использует Python во многих проектах'\n",
    "print(sorted(string.split(), key=lambda x: (len(x), x.lower())))"
   ]
  },
  {
   "cell_type": "code",
   "execution_count": 76,
   "metadata": {},
   "outputs": [
    {
     "name": "stdout",
     "output_type": "stream",
     "text": [
      "64 512\n"
     ]
    }
   ],
   "source": [
    "# I Решено\n",
    "\n",
    "print(*filter(lambda x: sum([int(q) for q in str(x)]) % 2 == 0, (32, 64, 128, 256, 512)))"
   ]
  },
  {
   "cell_type": "code",
   "execution_count": 87,
   "metadata": {},
   "outputs": [
    {
     "name": "stdout",
     "output_type": "stream",
     "text": [
      "Z3X1-G!0Z371\n"
     ]
    }
   ],
   "source": [
    "# J Решена\n",
    "\n",
    "def secret_replace(text, **dict):\n",
    "    new_text = text\n",
    "    for i in dict:\n",
    "        while i in new_text:\n",
    "            for z in dict[i]:\n",
    "                new_text = new_text.replace(i, z, 1)\n",
    "            \n",
    "    return print(new_text)\n",
    "            \n",
    "result = secret_replace(\n",
    "    \"ABRA-KADABRA\",\n",
    "    A=(\"Z\", \"1\", \"!\"),\n",
    "    B=(\"3\",),\n",
    "    R=(\"X\", \"7\"),\n",
    "    K=(\"G\", \"H\"),\n",
    "    D=(\"0\", \"2\"),\n",
    ")"
   ]
  },
  {
   "cell_type": "code",
   "execution_count": 4,
   "metadata": {},
   "outputs": [
    {
     "name": "stdout",
     "output_type": "stream",
     "text": [
      "[1, 1, 1, 1, 1]\n"
     ]
    }
   ],
   "source": [
    "# A решена\n",
    "\n",
    "def make_list(length, value=0):\n",
    "    return [value for i in range(length)]\n",
    "\n",
    "result = make_list(5, 1)\n",
    "print(result)"
   ]
  },
  {
   "cell_type": "code",
   "execution_count": 16,
   "metadata": {},
   "outputs": [
    {
     "name": "stdout",
     "output_type": "stream",
     "text": [
      "[[1, 1, 1, 1], [1, 1, 1, 1]]\n"
     ]
    }
   ],
   "source": [
    "def make_matrix(size, value=0):\n",
    "    if type(size) is int:\n",
    "        return [[value for i in range(size)] for i in range(size)]\n",
    "    else:\n",
    "        return [[value for i in range(size[0])] for i in range(size[1])]\n",
    "\n",
    "\n",
    "result = make_matrix((4, 2), 1)\n",
    "print(result)"
   ]
  },
  {
   "cell_type": "code",
   "execution_count": 8,
   "metadata": {},
   "outputs": [
    {
     "name": "stdout",
     "output_type": "stream",
     "text": [
      "((4, 2),)\n"
     ]
    }
   ],
   "source": [
    "def make_matrix(size):\n",
    "    return print(size) \n",
    "    \n",
    "\n",
    "\n",
    "result = make_matrix((4, 2))"
   ]
  },
  {
   "cell_type": "code",
   "execution_count": 19,
   "metadata": {},
   "outputs": [
    {
     "name": "stdout",
     "output_type": "stream",
     "text": [
      "7, 3, 1, hello, (1, 2, 3)!\n"
     ]
    }
   ],
   "source": [
    "# E решена\n",
    "\n",
    "def to_string(*args, sep=\" \", end=\"\\n\"):\n",
    "    return sep.join(map(str, args)) + end\n",
    "\n",
    "data = [7, 3, 1, \"hello\", (1, 2, 3)]\n",
    "result = to_string(*data, sep=\", \", end=\"!\")\n",
    "print(result)"
   ]
  },
  {
   "cell_type": "code",
   "execution_count": 22,
   "metadata": {},
   "outputs": [
    {
     "name": "stdout",
     "output_type": "stream",
     "text": [
      "['мама', 'мыла', 'раму']\n"
     ]
    }
   ],
   "source": [
    "# H решена\n",
    "\n",
    "string = 'мама мыла раму'\n",
    "print(sorted(string.split(), key=lambda x: (len(x), x.lower())))"
   ]
  },
  {
   "cell_type": "code",
   "execution_count": 28,
   "metadata": {},
   "outputs": [
    {
     "name": "stdout",
     "output_type": "stream",
     "text": [
      "2 4\n",
      "64 512\n"
     ]
    }
   ],
   "source": [
    "# I решена\n",
    "print(*filter(lambda x: x % 2 == 0, (1, 2, 3, 4, 5)))\n",
    "print(*filter(lambda x: sum([int(q) for q in str(x)]) % 2 == 0, (32, 64, 128, 256, 512)))"
   ]
  },
  {
   "cell_type": "code",
   "execution_count": 27,
   "metadata": {},
   "outputs": [
    {
     "name": "stdout",
     "output_type": "stream",
     "text": [
      "['32']\n"
     ]
    }
   ],
   "source": [
    "a = 32\n",
    "print(str(a).split())"
   ]
  },
  {
   "cell_type": "code",
   "execution_count": 43,
   "metadata": {},
   "outputs": [
    {
     "name": "stdout",
     "output_type": "stream",
     "text": [
      "Z3X1-G!0Z371\n"
     ]
    }
   ],
   "source": [
    "def secret_replace(text, **replaces):\n",
    "    new_text = text\n",
    "    for word in replaces:\n",
    "        counted = 0\n",
    "        while word in new_text:\n",
    "            if len(replaces[word]) > counted: \n",
    "                new_text = new_text.replace(word, replaces[word][counted], 1)\n",
    "                counted += 1\n",
    "            else:\n",
    "                counted = 0\n",
    "    return new_text\n",
    "\n",
    "result = secret_replace(\n",
    "    \"ABRA-KADABRA\",\n",
    "    A=(\"Z\", \"1\", \"!\"),\n",
    "    B=(\"3\",),\n",
    "    R=(\"X\", \"7\"),\n",
    "    K=(\"G\", \"H\"),\n",
    "    D=(\"0\", \"2\"),\n",
    ")\n",
    "print(result)"
   ]
  },
  {
   "cell_type": "code",
   "execution_count": null,
   "metadata": {},
   "outputs": [],
   "source": []
  }
 ],
 "metadata": {
  "kernelspec": {
   "display_name": "Python 3",
   "language": "python",
   "name": "python3"
  },
  "language_info": {
   "codemirror_mode": {
    "name": "ipython",
    "version": 3
   },
   "file_extension": ".py",
   "mimetype": "text/x-python",
   "name": "python",
   "nbconvert_exporter": "python",
   "pygments_lexer": "ipython3",
   "version": "3.11.9"
  },
  "orig_nbformat": 4
 },
 "nbformat": 4,
 "nbformat_minor": 2
}
