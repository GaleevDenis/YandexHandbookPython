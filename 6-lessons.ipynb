{
 "cells": [
  {
   "cell_type": "markdown",
   "metadata": {},
   "source": [
    "Напишите программу, которая по двум строкам определяет их общие символы.\n",
    "\n",
    "Формат ввода\n",
    "\n",
    "Вводится две строки.\n",
    "\n",
    "Формат вывода\n",
    "\n",
    "Требуется вывести все символы этой строки без повторений.\n",
    "Порядок вывода не имеет значения."
   ]
  },
  {
   "cell_type": "markdown",
   "metadata": {},
   "source": [
    "Напишите программу, чтобы по введённой строке она определяла, из каких символов та состоит.\n",
    "\n",
    "Формат ввода\n",
    "\n",
    "Вводится одна строка.\n",
    "\n",
    "Формат вывода\n",
    "\n",
    "Требуется вывести все символы этой строки без повторений.\n",
    "Порядок вывода не имеет значения."
   ]
  },
  {
   "cell_type": "code",
   "execution_count": null,
   "metadata": {},
   "outputs": [],
   "source": [
    "# a Решена\n",
    "a = set(input())\n",
    "print(\"\".join(a))"
   ]
  },
  {
   "cell_type": "code",
   "execution_count": null,
   "metadata": {},
   "outputs": [],
   "source": [
    "# B Решена\n",
    "a = set(input())\n",
    "b = set(input())\n",
    "c = a.intersection(b)\n",
    "print(\"\".join(c))"
   ]
  },
  {
   "cell_type": "markdown",
   "metadata": {},
   "source": [
    "Формат ввода\n",
    "\n",
    "В первой строке записано натуральное число a — количество выделенных придорожных местностей.\n",
    "В каждой из a последующих строк записано описание придорожной местности.\n",
    "\n",
    "Ввод\n",
    "\n",
    "3\n",
    "\n",
    "березка елочка зайка волк березка\n",
    "\n",
    "сосна зайка сосна елочка зайка медведь\n",
    "\n",
    "сосна сосна сосна белочка сосна белочка\n",
    "\n",
    "Формат вывода\n",
    "\n",
    "Вывести все найденные объекты в придорожных местностях."
   ]
  },
  {
   "cell_type": "code",
   "execution_count": null,
   "metadata": {},
   "outputs": [],
   "source": [
    "# С Решена\n",
    "a = int(input())\n",
    "c = set()\n",
    "for i in range(a):\n",
    "    b = set(input().split())\n",
    "    c = c.union(set(b))\n",
    "for letter in c:\n",
    "    print(letter)"
   ]
  },
  {
   "cell_type": "markdown",
   "metadata": {},
   "source": [
    "Формат ввода\n",
    "\n",
    "В первых двух строках указывается количество детей, любящих манную и овсяную каши (a и b).\n",
    "\n",
    "Затем идут a строк — фамилии детей, которые любят манную кашу, и b строк с фамилиями детей, любящих овсяную кашу.\n",
    "\n",
    "Гарантируется, что в группе нет однофамильцев.\n",
    "\n",
    "Формат вывода\n",
    "\n",
    "Количество учеников, которые любят обе каши.\n",
    "Если таких не окажется, в строке вывода нужно написать «Таких нет»."
   ]
  },
  {
   "cell_type": "code",
   "execution_count": null,
   "metadata": {},
   "outputs": [],
   "source": [
    "# D Решена\n",
    "a = int(input())\n",
    "b = int(input())\n",
    "c = set()\n",
    "d = set()\n",
    "for i in range(a):\n",
    "    k = input()\n",
    "    if k in c:\n",
    "        c.discard(k)\n",
    "    else:\n",
    "        c.add(k)\n",
    "for e in range(b):\n",
    "    k = input()\n",
    "    if k in d:\n",
    "        d.discard(k)\n",
    "    else:\n",
    "        d.add(k)\n",
    "s = c.symmetric_difference(d)\n",
    "if len(s) == 0:\n",
    "    print(\"Таких нет\")\n",
    "else:\n",
    "    print(len(s))"
   ]
  },
  {
   "cell_type": "markdown",
   "metadata": {},
   "source": [
    "Давайте создадим программу, которая позволит воспитателю быстро выяснить, сколько детей любят обе каши.\n",
    "\n",
    "Формат ввода\n",
    "\n",
    "В первых двух строках указывается количество детей, любящих манную и овсяную каши a и b.\n",
    "\n",
    "Затем идут a строк — фамилии детей, которые любят манную кашу, и b строк с фамилиями детей, любящих овсяную кашу.\n",
    "\n",
    "Гарантируется, что в группе нет однофамильцев.\n",
    "\n",
    "Формат вывода\n",
    "\n",
    "Количество учеников, которые любят обе каши.\n",
    "\n",
    "Если таких не окажется, в строке вывода нужно написать «Таких нет»."
   ]
  },
  {
   "cell_type": "code",
   "execution_count": null,
   "metadata": {},
   "outputs": [],
   "source": [
    "# E Решена\n",
    "a = int(input())\n",
    "b = int(input())\n",
    "c = set()\n",
    "d = set()\n",
    "for i in range(a):\n",
    "    k = input()\n",
    "    if k in c:\n",
    "        c.discard(k)\n",
    "    else:\n",
    "        c.add(k)\n",
    "for e in range(b):\n",
    "    k = input()\n",
    "    if k in d:\n",
    "        d.discard(k)\n",
    "    else:\n",
    "        d.add(k)\n",
    "s = c.symmetric_difference(d)\n",
    "if len(s) == 0:\n",
    "    print(\"Таких нет\")\n",
    "else:\n",
    "    print(len(s))"
   ]
  },
  {
   "cell_type": "code",
   "execution_count": null,
   "metadata": {},
   "outputs": [],
   "source": [
    "a = input().split()\n",
    "print(a)"
   ]
  },
  {
   "cell_type": "markdown",
   "metadata": {},
   "source": [
    "Напишите программу, которая позволит воспитателю узнать, какие дети любят только одну кашу.\n",
    "\n",
    "Формат ввода\n",
    "\n",
    "В первых двух строках указывается количество детей, любящих манную и овсяную каши a и b.\n",
    "\n",
    "Затем идут a + b строк — перемешанные фамилии детей.\n",
    "\n",
    "Гарантируется, что в группе нет однофамильцев.\n",
    "\n",
    "Формат вывода\n",
    "\n",
    "В алфавитном порядке фамилии учеников, которые любят только одну кашу.\n",
    "\n",
    "Если таких не окажется, в строке вывода нужно написать «Таких нет»."
   ]
  },
  {
   "cell_type": "code",
   "execution_count": null,
   "metadata": {},
   "outputs": [],
   "source": [
    "# F Решена\n",
    "a = int(input())\n",
    "b = int(input())\n",
    "c = set()\n",
    "d = set()\n",
    "for i in range(a):\n",
    "    k = input()\n",
    "    if k in c:\n",
    "        c.discard(k)\n",
    "    else:\n",
    "        c.add(k)\n",
    "for e in range(b):\n",
    "    k = input()\n",
    "    if k in d:\n",
    "        d.discard(k)\n",
    "    else:\n",
    "        d.add(k)\n",
    "s = c.symmetric_difference(d)\n",
    "if len(s) == 0:\n",
    "    print(\"Таких нет\")\n",
    "else:\n",
    "    s = list(s)\n",
    "    s.sort()\n",
    "    for m in range(len(s)):\n",
    "        print(s[m])"
   ]
  },
  {
   "cell_type": "markdown",
   "metadata": {},
   "source": [
    "Между закодированными буквами ставится ровно один пробел. Например, слово Help превратится в .... . .-.. .--.. \n",
    "Обратите внимание, что строчные и заглавные буквы кодируются одинаково.\n",
    "\n",
    "Формат ввода\n",
    "\n",
    "Весь текст записан в единственной строке. Текст состоит из английских букв и пробелов, других символов в тексте нет. В тексте не может быть двух или более пробелов подряд.\n",
    "\n",
    "Формат вывода\n",
    "\n",
    "Выведите каждое слово исходного текста, закодированное азбукой Морзе, на отдельной строке.\n",
    "\n",
    "Количество строк в ответе должно совпадать с количеством слов в исходном тексте."
   ]
  },
  {
   "cell_type": "code",
   "execution_count": null,
   "metadata": {},
   "outputs": [],
   "source": [
    "# G Решена\n",
    "a = {'A': '.-', 'B': '-...', 'C': '-.-.', 'D': '-..', 'E': '.', 'F': '..-.',\n",
    "     'G': '--.', 'H': '....', 'I': '..',\n",
    "     'J': '.---', 'K': '-.-', 'L': '.-..',\n",
    "     'M': '--', 'N': '-.', 'O': '---',\n",
    "     'P': '.--.', 'Q': '--.-', 'R': '.-.',\n",
    "     'S': '...', 'T': '-', 'U': '..-',\n",
    "     'V': '...-', 'W': '.--', 'X': '-..-',\n",
    "     'Y': '-.--', 'Z': '--..',\n",
    "     '0': '-----', '1': '.----', '2': '..---',\n",
    "     '3': '...--', '4': '....-', '5': '.....',\n",
    "     '6': '-....', '7': '--...', '8': '---..',\n",
    "     '9': '----.', \" \": \" \"}\n",
    "b = str(input())\n",
    "b = b.upper()\n",
    "c = list()\n",
    "for i in range(len(b)):\n",
    "    if b[i] in a:\n",
    "        c.append(a[b[i]])\n",
    "k = str()\n",
    "for d in range(len(c)):\n",
    "    if c[d] != \" \":\n",
    "        k = k + str(c[d]) + \" \"\n",
    "    else:\n",
    "        print(k[:-1])\n",
    "        k = \"\"\n",
    "print(k[:-1])"
   ]
  },
  {
   "cell_type": "markdown",
   "metadata": {},
   "source": [
    "Формат ввода\n",
    "\n",
    "В первой строке задаётся количество детей в группе (a). В следующих a строках записана фамилия ребенка и список его любимых каш. В последней строке записана каша, информацию о которой хочет получить воспитатель.\n",
    "\n",
    "Формат вывода\n",
    "\n",
    "Фамилии учеников, которые любят заданную кашу, в алфавитном порядке.\n",
    "\n",
    "Если таких не окажется, в строке вывода нужно написать «Таких нет»."
   ]
  },
  {
   "cell_type": "code",
   "execution_count": null,
   "metadata": {},
   "outputs": [],
   "source": [
    "# H Решена\n",
    "a = int(input())\n",
    "b = dict()\n",
    "r = list()\n",
    "for i in range(a):\n",
    "    c = input().split()\n",
    "    b[c[0]] = \" \".join(c[1:len(c)])\n",
    "d = str(input())\n",
    "for e in b:\n",
    "    if str(b[e]).count(d):\n",
    "        r.append(e)\n",
    "    else:\n",
    "        pass\n",
    "r.sort()\n",
    "for t in range(len(r)):\n",
    "    print(r[t])\n",
    "if len(r) == 0:\n",
    "    print(\"Таких нет\")"
   ]
  },
  {
   "cell_type": "markdown",
   "metadata": {},
   "source": [
    "Поможем детям подсчитать, сколько за окном поезда встречается животных и деревьев каждого вида\n",
    "\n",
    "Формат ввода\n",
    "\n",
    "В каждой строке записано описание придорожной местности.\n",
    "Конец ввода обозначается пустой строкой.\n",
    "\n",
    "Формат вывода\n",
    "\n",
    "Список увиденного и их количество.\n",
    "Порядок вывода не имеет значения."
   ]
  },
  {
   "cell_type": "code",
   "execution_count": null,
   "metadata": {},
   "outputs": [],
   "source": [
    "# i решена\n",
    "b = list()\n",
    "c = dict()\n",
    "while (a := list(input().split())) != []:\n",
    "    b = b + a\n",
    "for i in range(len(b)):\n",
    "    if b[i] not in c:\n",
    "        c[b[i]] = [str(1)]\n",
    "    elif b[i] in c:\n",
    "        c[b[i]].append(str(1))\n",
    "for letter in c:\n",
    "    c[letter] = \"\".join(c[letter])\n",
    "    c[letter] = c[letter].count(\"1\")\n",
    "    print(f\"{letter} {c[letter]}\")"
   ]
  },
  {
   "cell_type": "markdown",
   "metadata": {},
   "source": [
    "Давайте транслитерируем русский текст.\n",
    "\n",
    "Букву «ё» транслитерируйте как «e», «й» как «и», а «ъ» и «ь» (и их заглавные версии «Ъ» и «Ь») должны исчезнуть из текста. Строчные буквы заменяются на строчные, заглавные заменяются на заглавные. Если заглавная буква превращается при транслитерации в несколько букв, то заглавной должна остаться только первая из них (например, «Ц» → «Tc»). Все некириллические символы должны остаться на месте.\n",
    "\n",
    "Формат ввода\n",
    "\n",
    "В единственной строке задан русский текст. Текст может состоять из любых символов. Вам необходимо транслитерировать только русские буквы, а остальные оставить на месте. Гарантируется, что нет слов, состоящих только из букв «ъ» и «ь».\n",
    "\n",
    "Формат вывода\n",
    "\n",
    "Выведите одну строку — транслитерированный текст."
   ]
  },
  {
   "cell_type": "code",
   "execution_count": null,
   "metadata": {},
   "outputs": [],
   "source": [
    "# J Решена\n",
    "a = {\"А\": \"A\",\n",
    "     \"Б\": \"B\",\n",
    "     \"В\": \"V\",\n",
    "     \"Г\": \"G\",\n",
    "     \"Д\": \"D\",\n",
    "     \"Е\": \"E\",\n",
    "     \"Ё\": \"E\",\n",
    "     \"Ж\": \"ZH\",\n",
    "     \"З\": \"Z\",\n",
    "     \"И\": \"I\",\n",
    "     \"Й\": \"I\",\n",
    "     \"К\": \"K\",\n",
    "     \"Л\": \"L\",\n",
    "     \"М\": \"M\",\n",
    "     \"Н\": \"N\",\n",
    "     \"О\": \"O\",\n",
    "     \"П\": \"P\",\n",
    "     \"Р\": \"R\",\n",
    "     \"С\": \"S\",\n",
    "     \"Т\": \"T\",\n",
    "     \"У\": \"U\",\n",
    "     \"Ф\": \"F\",\n",
    "     \"Х\": \"KH\",\n",
    "     \"Ц\": \"TC\",\n",
    "     \"Ч\": \"CH\",\n",
    "     \"Ш\": \"SH\",\n",
    "     \"Щ\": \"SHCH\",\n",
    "     \"Ы\": \"Y\",\n",
    "     \"Э\": \"E\",\n",
    "     \"Ю\": \"IU\",\n",
    "     \"Ь\": \"\",\n",
    "     \"Ъ\": \"\",\n",
    "     \"Я\": \"IA\",\n",
    "     \" \": \" \"}\n",
    "b = list(input())\n",
    "c = list()\n",
    "for i in range(len(b)):\n",
    "    if b[i] in a:\n",
    "      c.append(a[b[i]].capitalize())\n",
    "    elif b[i].upper() in a:\n",
    "      c.append(a[b[i].upper()].lower())\n",
    "    else:\n",
    "      c.append(b[i])\n",
    "print(\"\".join(c))"
   ]
  },
  {
   "cell_type": "markdown",
   "metadata": {},
   "source": [
    "Формат ввода\n",
    "\n",
    "В первой строке указывается количество мужчин — сотрудников организации (a).\n",
    "\n",
    "Затем идут a строк с фамилиями этих сотрудников в произвольном порядке.\n",
    "\n",
    "Формат вывода\n",
    "\n",
    "Количество однофамильцев в организации."
   ]
  },
  {
   "cell_type": "code",
   "execution_count": null,
   "metadata": {},
   "outputs": [],
   "source": [
    "# k Решено\n",
    "a = int(input())\n",
    "b = list()\n",
    "c = dict()\n",
    "d1 = 0\n",
    "for k in range(a):\n",
    "    b.append(str(input()))\n",
    "for i in range(len(b)):\n",
    "    if b[i] not in c:\n",
    "        c[b[i]] = [str(1)]\n",
    "    elif b[i] in c:\n",
    "        c[b[i]].append(str(1))\n",
    "for letter in c:\n",
    "    c[letter] = \"\".join(c[letter])\n",
    "    c[letter] = c[letter].count(\"1\")\n",
    "    if c[letter] > 1:\n",
    "        d1 = d1 + c[letter]\n",
    "print(d1)"
   ]
  },
  {
   "cell_type": "markdown",
   "metadata": {},
   "source": [
    "Формат ввода\n",
    "\n",
    "В первой строке указывается количество мужчин — сотрудников организации (a).\n",
    "Затем идут a строк с фамилиями этих сотрудников в произвольном порядке.\n",
    "\n",
    "Формат вывода\n",
    "\n",
    "Список однофамильцев в организации с указанием их количества в алфавитном порядке.\n",
    "Если таковых нет — вывести «Однофамильцев нет»."
   ]
  },
  {
   "cell_type": "code",
   "execution_count": null,
   "metadata": {},
   "outputs": [],
   "source": [
    "# L Решено\n",
    "a = int(input())\n",
    "b = list()\n",
    "c = dict()\n",
    "h = False\n",
    "for k in range(a):\n",
    "    b.append(str(input()))\n",
    "b.sort()\n",
    "for i in range(len(b)):\n",
    "    if b[i] not in c:\n",
    "        c[b[i]] = [str(1)]\n",
    "    elif b[i] in c:\n",
    "        c[b[i]].append(str(1))\n",
    "for letter in c:\n",
    "    c[letter] = \"\".join(c[letter])\n",
    "    c[letter] = c[letter].count(\"1\")\n",
    "    if c[letter] > 1:\n",
    "        print(f\"{letter} - {c[letter]}\")\n",
    "        h = True\n",
    "if h is False:\n",
    "    print(\"Однофамильцев нет\") "
   ]
  },
  {
   "cell_type": "markdown",
   "metadata": {},
   "source": [
    "В его распоряжении есть список блюд:\n",
    "\n",
    "которые можно приготовить в столовой сегодня;\n",
    "которые были приготовлены в каждый из дней недели.\n",
    "\n",
    "Формат ввода\n",
    "\n",
    "Число блюд (a), которые можно приготовить в столовой.a строк с названиями блюд. Число дней (c), о которых имеется информация.c блоков строк для каждого из списков. В первой строке каждого блока записано число блюд в заданный день, затем перечисляются эти блюда.\n",
    "\n",
    "Формат вывода\n",
    "\n",
    "Список блюд, которые ещё не готовились на этой неделе в алфавитном порядке.\n",
    "Если все возможные блюда уже были приготовлены, следует вывести «Готовить нечего»."
   ]
  },
  {
   "cell_type": "code",
   "execution_count": null,
   "metadata": {},
   "outputs": [],
   "source": [
    "# M Решена\n",
    "a = int(input())\n",
    "b = list()\n",
    "for i in range(a):\n",
    "    b.append(str(input()))\n",
    "b.sort()\n",
    "c = int(input())\n",
    "for d in range(c):\n",
    "    e = int(input())\n",
    "    for r in range(e):\n",
    "        t = str(input())\n",
    "        if t in b:\n",
    "            b.remove(t)\n",
    "if len(b) != 0:\n",
    "    for letter in b:\n",
    "        print(letter)\n",
    "else:\n",
    "    print(\"Готовить нечего\")\n"
   ]
  },
  {
   "cell_type": "markdown",
   "metadata": {},
   "source": [
    "Напишите программу, способную быстро определить блюда, которые можно приготовить.\n",
    "\n",
    "Формат ввода\n",
    "\n",
    "Число продуктов (a), которые имеются в наличии.a строк с названиями продуктов.\n",
    "\n",
    "Число рецептов (c), о которых имеется информация.c блоков строк для каждого из рецептов.\n",
    "В первой строке каждого блока записано название блюда.\n",
    "\n",
    "Во второй — число ингредиентов.\n",
    "\n",
    "Затем перечисляются сами ингредиенты, требуемые для приготовления блюда.\n",
    "\n",
    "Формат вывода\n",
    "\n",
    "Список блюд, которые можно приготовить в алфавитном порядке.\n",
    "\n",
    "Если ни одно из блюд нельзя приготовить, следует вывести «Готовить нечего»."
   ]
  },
  {
   "cell_type": "code",
   "execution_count": null,
   "metadata": {},
   "outputs": [],
   "source": [
    "# N\n",
    "a = int(input())\n",
    "b = set()\n",
    "k1 = list()\n",
    "c1 = False\n",
    "for i in range(a):\n",
    "    b.add(str(input()))\n",
    "c = int(input())\n",
    "for e in range(c):\n",
    "    d = str(input())\n",
    "    f = int(input())\n",
    "    j = set()\n",
    "    for r in range(f):\n",
    "        k = str(input())\n",
    "        if k in b:\n",
    "            j.add(k)\n",
    "        else:\n",
    "            pass\n",
    "    if len(j) == f:\n",
    "        k1.append(d)\n",
    "        c1 = True\n",
    "if c1 is False:\n",
    "    print(\"Готовить нечего\")\n",
    "else:\n",
    "    k1.sort()\n",
    "    for letter in k1:\n",
    "        print(letter)"
   ]
  },
  {
   "cell_type": "markdown",
   "metadata": {},
   "source": [
    "Напишите программу, которая для переданных чисел вычисляет:\n",
    "\n",
    "\n",
    "количество разрядов;\n",
    "\n",
    "количество единиц;\n",
    "\n",
    "количество нулей.\n",
    "\n",
    "Формат ввода\n",
    "\n",
    "Вводится последовательность чисел, записанных через пробел.\n",
    "\n",
    "\n",
    "Формат вывода\n",
    "Вывести список словарей с требуемой статистикой.\n",
    "\n",
    "\n",
    "Примечание\n",
    "\n",
    "Вывод в примерах отформатирован только для визуальной наглядности.\n",
    "\n",
    "Все пробельные символы при проверке игнорируются.\n",
    "\n",
    "Порядок словарей обязан совпадать с порядком переданных чисел.\n",
    "\n",
    "Порядок ключей в словаре не имеет значения."
   ]
  },
  {
   "cell_type": "code",
   "execution_count": null,
   "metadata": {},
   "outputs": [],
   "source": [
    "# o Решена\n",
    "a = str(input())\n",
    "b = a.split()\n",
    "e = list()\n",
    "for i in range(len(b)):\n",
    "    d = str()\n",
    "    c = int(b[i])\n",
    "    while c != 0:\n",
    "        d = d + str(c % 2)\n",
    "        c = c // 2\n",
    "    k = dict()\n",
    "    k[\"digits\"] = len(d)\n",
    "    z = 0\n",
    "    z = d.count(\"1\")\n",
    "    k[\"units\"] = z\n",
    "    z = d.count(\"0\")\n",
    "    k[\"zeros\"] = z\n",
    "    e.append(k)\n",
    "print(e)"
   ]
  },
  {
   "cell_type": "code",
   "execution_count": null,
   "metadata": {},
   "outputs": [],
   "source": [
    "# P\n",
    "b = set()\n",
    "while (a := input().split()) != []:\n",
    "    for i in range(len(a)):\n",
    "        if a[i] == \"зайка\":\n",
    "            if a[i] != a[-1]:\n",
    "                b.add(a[i + 1])\n",
    "            if a[i] != a[0]:\n",
    "                b.add(a[i - 1])\n",
    "for letter in b:\n",
    "    print(letter)"
   ]
  },
  {
   "cell_type": "code",
   "execution_count": null,
   "metadata": {},
   "outputs": [],
   "source": [
    "# Q решена\n",
    "b = list()\n",
    "c = list()\n",
    "c1 = dict()\n",
    "while (a := str(input()).split()) != []:\n",
    "    for letter2 in a:\n",
    "        b.append(letter2)\n",
    "c = b.copy()\n",
    "b.sort()\n",
    "for letter in b:\n",
    "    if letter not in c1:\n",
    "        c1[letter] = []\n",
    "for ra in range(len(c)):\n",
    "    d = set()\n",
    "    if ra % 2 == 0 or ra == 0:\n",
    "        d.add(c[ra + 1])\n",
    "        for da in range(len(c)):\n",
    "            if da != ra:\n",
    "                if c[ra] == c[da]:\n",
    "                    if da % 2 == 0:\n",
    "                        d.add(c[da + 1])\n",
    "                    else:\n",
    "                        d.add(c[da - 1])\n",
    "        for litr in d:\n",
    "            for ka in range(len(c)):\n",
    "                if litr == c[ka]:\n",
    "                    if ka % 2 == 0 or ka == 0:\n",
    "                        if c[ka + 1] not in d:\n",
    "                            if c[ka + 1] != c[ra]:\n",
    "                                if c[ka + 1] not in c1[c[ra]]:\n",
    "                                    c1[c[ra]].append(c[ka + 1])\n",
    "                                    c1[c[ra]].sort()\n",
    "                    else:\n",
    "                        if c[ka - 1] not in d:\n",
    "                            if c[ka -1] != c[ra]:\n",
    "                                if c[ka - 1] not in c1[c[ra]]:\n",
    "                                    c1[c[ra]].append(c[ka - 1])\n",
    "                                    c1[c[ra]].sort()\n",
    "    else:\n",
    "        d.add(c[ra - 1])\n",
    "        for da in range(len(c)):\n",
    "            if da != ra:\n",
    "                if c[ra] == c[da]:\n",
    "                    if da % 2 == 0:\n",
    "                        d.add(c[da + 1])\n",
    "                    else:\n",
    "                        d.add(c[da - 1])\n",
    "        for litr in d:\n",
    "            for ka in range(len(c)):\n",
    "                if litr == c[ka]:\n",
    "                    if ka % 2 == 0 or ka == 0:\n",
    "                        if c[ka + 1] not in d:\n",
    "                            if c[ka + 1] != c[ra]:\n",
    "                                if c[ka + 1] not in c1[c[ra]]:\n",
    "                                    c1[c[ra]].append(c[ka + 1])\n",
    "                                    c1[c[ra]].sort()\n",
    "                    else:\n",
    "                        if c[ka - 1] not in d:\n",
    "                            if c[ka - 1] != c[ra]:\n",
    "                                if c[ka - 1] not in c1[c[ra]]:\n",
    "                                    c1[c[ra]].append(c[ka - 1])\n",
    "                                    c1[c[ra]].sort()\n",
    "for hp in c1:\n",
    "    c1[hp] = \", \".join(c1[hp])\n",
    "for g in c1:\n",
    "    print(f\"{g}: {c1[g]}\")"
   ]
  },
  {
   "cell_type": "code",
   "execution_count": null,
   "metadata": {},
   "outputs": [],
   "source": [
    "b = list([[\"иванов\", \"петров\"], [\"петров\", \"ящерица\"]])\n",
    "print((b[0])[0])"
   ]
  },
  {
   "cell_type": "code",
   "execution_count": null,
   "metadata": {},
   "outputs": [],
   "source": [
    "b = list()\n",
    "z = list()\n",
    "c1 = dict()\n",
    "while (a := list(str(input()).split())) != []:\n",
    "    for m in range(len(a)):\n",
    "        b.append(a[m])\n",
    "b.sort()\n",
    "for letter in b:\n",
    "    print(letter)"
   ]
  },
  {
   "cell_type": "code",
   "execution_count": null,
   "metadata": {},
   "outputs": [],
   "source": [
    "b = list()\n",
    "c = list()\n",
    "c1 = dict()\n",
    "while (a := str(input()).split()) != []:\n",
    "    c.append(a)\n",
    "    for letter2 in a:\n",
    "        b.append(letter2)\n",
    "print(c)\n",
    "for i in range(len(c)):\n",
    "    for m in range(2):\n",
    "        if (c[i])[m] in (c[:i])[0:2]:\n",
    "            if (c[i])[m] in (c[i + 1:])[0:2]:\n",
    "                print(\"da\")"
   ]
  },
  {
   "cell_type": "code",
   "execution_count": null,
   "metadata": {},
   "outputs": [],
   "source": [
    "c = ['Николай', 'Фёдор', 'Николай', 'Женя', 'Фёдор', 'Женя', 'Фёдор', 'Илья', 'Илья', 'Фёдор']\n",
    "\n",
    "for letter in c:\n",
    "    print(letter)"
   ]
  },
  {
   "cell_type": "code",
   "execution_count": null,
   "metadata": {},
   "outputs": [],
   "source": [
    "a = \"А\"\n",
    "a = a.islower()\n",
    "print(a)"
   ]
  },
  {
   "cell_type": "code",
   "execution_count": null,
   "metadata": {},
   "outputs": [],
   "source": [
    "s = {1, 2, 3}\n",
    "s.remove(2)\n",
    "print(s)"
   ]
  },
  {
   "cell_type": "code",
   "execution_count": null,
   "metadata": {},
   "outputs": [],
   "source": [
    "numbers = [int(input()) for i in range(5)]\n",
    "print(numbers)"
   ]
  },
  {
   "cell_type": "code",
   "execution_count": null,
   "metadata": {},
   "outputs": [],
   "source": [
    "word = \"коллекция\"\n",
    "letters = set(word)\n",
    "print(letters)\n",
    "\n",
    "print(set([\"а\", \"е\", \"ё\", \"и\", \"о\", \"у\", \"ы\", \"э\", \"ю\", \"я\"]))\n",
    "print({})"
   ]
  },
  {
   "cell_type": "code",
   "execution_count": null,
   "metadata": {},
   "outputs": [],
   "source": [
    "vowels = {\"а\", \"е\", \"ё\", \"и\", \"о\", \"у\", \"ы\", \"э\", \"ю\", \"я\"}\n",
    "letters = set('коллекция')\n",
    "print(\", \".join(vowels & letters))"
   ]
  },
  {
   "cell_type": "code",
   "execution_count": null,
   "metadata": {},
   "outputs": [],
   "source": [
    "s_1 = {1, 2, 3}\n",
    "s_2 = {3, 1, 2, 41}\n",
    "print(s_1 <= s_2)"
   ]
  },
  {
   "cell_type": "code",
   "execution_count": null,
   "metadata": {},
   "outputs": [],
   "source": [
    "d = {\"a\": 1, \"b\": 2, \"c\": 3}\n",
    "d.items()"
   ]
  },
  {
   "cell_type": "code",
   "execution_count": null,
   "metadata": {},
   "outputs": [],
   "source": [
    "d = {\"a\": 1, \"b\": 2, \"c\": 3}\n",
    "d.keys()"
   ]
  },
  {
   "cell_type": "code",
   "execution_count": null,
   "metadata": {},
   "outputs": [],
   "source": [
    "countries = dict()\n",
    "# вводим первую строку до цикла (можно заменить, использовав оператор-морж)\n",
    "country = input()\n",
    "# создаём счётчик номеров строк\n",
    "str_number = 0\n",
    "# продолжаем цикл, пока не введена строка «СТОП»\n",
    "while country != \"СТОП\":\n",
    "    # Если страна country есть среди ключей, то get() возвращает список, \n",
    "    # хранящийся по этому ключу, иначе get() возвращает пустой список. \n",
    "    # Добавляем в список значение str_number.\n",
    "    countries[country] = countries.get(country, []) + [str_number]\n",
    "    # увеличиваем счётчик\n",
    "    str_number += 1\n",
    "    # вводим следующую строку\n",
    "    country = input()\n",
    "# выводим название страны и полученные списки с новой строки\n",
    "for country in countries:\n",
    "    print(f\"{country}: {countries[country]}\")"
   ]
  },
  {
   "cell_type": "code",
   "execution_count": null,
   "metadata": {},
   "outputs": [],
   "source": [
    "# А решена\n",
    "\n",
    "print(\"\".join(set(input())))"
   ]
  },
  {
   "cell_type": "code",
   "execution_count": null,
   "metadata": {},
   "outputs": [],
   "source": [
    "# задачи codewars\n",
    "\n",
    "a = [3, 10, 3, 3, 3]\n",
    "\n",
    "x = a[0]\n",
    "y = int()\n",
    "counted = 0\n",
    "for i in a[1:]:\n",
    "    if x != i:\n",
    "        y = i\n",
    "        counted += 1\n",
    "if counted == len(a) - 1:\n",
    "    print(x)\n",
    "else:\n",
    "    print(y)"
   ]
  },
  {
   "cell_type": "code",
   "execution_count": null,
   "metadata": {},
   "outputs": [],
   "source": [
    "# задачи codewars\n",
    "a = [3, 10, 3, 3, 3]\n",
    "setings = list(set(a))\n",
    "if a.count(setings[0]) > a.count(setings[1]):\n",
    "    print(setings[1])\n",
    "else:\n",
    "    print(setings[0])"
   ]
  },
  {
   "cell_type": "code",
   "execution_count": null,
   "metadata": {},
   "outputs": [],
   "source": [
    "# B решена\n",
    "\n",
    "print(\"\".join(set(input()).intersection(set(input()))))"
   ]
  },
  {
   "cell_type": "code",
   "execution_count": null,
   "metadata": {},
   "outputs": [],
   "source": [
    "# С решена\n",
    "\n",
    "set_objects = set()\n",
    "for i in range(int(input())):\n",
    "    set_objects = set_objects.union(set(input().split()))\n",
    "for j in set_objects:\n",
    "    print(j)"
   ]
  },
  {
   "cell_type": "code",
   "execution_count": null,
   "metadata": {},
   "outputs": [],
   "source": [
    "print(set(['asdas', 'das', 'd', 'd']))"
   ]
  },
  {
   "cell_type": "code",
   "execution_count": null,
   "metadata": {},
   "outputs": [],
   "source": [
    "# D решена\n",
    "\n",
    "set_semolina = set()\n",
    "set_oatmeal = set()\n",
    "semolina_count = int(input())\n",
    "oatmeal_count = int(input())\n",
    "for i in range(semolina_count):\n",
    "    set_semolina.add(str(input()))\n",
    "for i in range(oatmeal_count):\n",
    "    set_oatmeal.add(str(input()))\n",
    "if len(set_semolina.intersection(set_oatmeal)) != 0:\n",
    "    print(len(set_semolina.intersection(set_oatmeal)))\n",
    "else:\n",
    "    print('Таких нет')"
   ]
  },
  {
   "cell_type": "code",
   "execution_count": null,
   "metadata": {},
   "outputs": [],
   "source": [
    "# E решена\n",
    "\n",
    "set_semolina = list()\n",
    "semolina_count = int(input())\n",
    "oatmeal_count = int(input())\n",
    "for i in range(semolina_count + oatmeal_count):\n",
    "    set_semolina.append(str(input()))\n",
    "list_semolina = []\n",
    "for i in set_semolina:\n",
    "    if set_semolina.count(i) != 2:\n",
    "        list_semolina.append(i)\n",
    "if len(list_semolina) == 0:\n",
    "    print('Таких нет')\n",
    "else:\n",
    "    print(len(list_semolina))"
   ]
  },
  {
   "cell_type": "code",
   "execution_count": null,
   "metadata": {},
   "outputs": [],
   "source": [
    "# F решена\n",
    "\n",
    "set_semolina = list()\n",
    "semolina_count = int(input())\n",
    "oatmeal_count = int(input())\n",
    "for i in range(semolina_count + oatmeal_count):\n",
    "    set_semolina.append(str(input()))\n",
    "list_semolina = []\n",
    "for i in set_semolina:\n",
    "    if set_semolina.count(i) != 2:\n",
    "        list_semolina.append(i)\n",
    "if len(list_semolina) == 0:\n",
    "    print('Таких нет')\n",
    "else:\n",
    "    list_semolina.sort()\n",
    "    for i in list_semolina:\n",
    "        print(i)"
   ]
  },
  {
   "cell_type": "code",
   "execution_count": null,
   "metadata": {},
   "outputs": [],
   "source": [
    "# G решена\n",
    "\n",
    "dict_morze = {\n",
    "    \"A\": \".-\",\n",
    "    \"B\": \"-...\",\n",
    "    \"C\": \"-.-.\",\n",
    "    \"D\": \"-..\",\n",
    "    \"E\": \".\",\n",
    "    \"F\": \"..-.\",\n",
    "    \"G\": \"--.\",\n",
    "    \"H\": \"....\",\n",
    "    \"I\": \"..\",\n",
    "    \"J\": \".---\",\n",
    "    \"K\": \"-.-\",\n",
    "    \"L\": \".-..\",\n",
    "    \"M\": \"--\",\n",
    "    \"N\": \"-.\",\n",
    "    \"O\": \"---\",\n",
    "    \"P\": \".--.\",\n",
    "    \"Q\": \"--.-\",\n",
    "    \"R\": \".-.\",\n",
    "    \"S\": \"...\",\n",
    "    \"T\": \"-\",\n",
    "    \"U\": \"..-\",\n",
    "    \"V\": \"...-\",\n",
    "    \"W\": \".--\",\n",
    "    \"X\": \"-..-\",\n",
    "    \"Y\": \"-.--\",\n",
    "    \"Z\": \"--..\",\n",
    "    \"0\": \"-----\",\n",
    "    \"1\": \".----\",\n",
    "    \"2\": \"..---\",\n",
    "    \"3\": \"...--\",\n",
    "    \"4\": \"....-\",\n",
    "    \"5\": \".....\",\n",
    "    \"6\": \"-....\",\n",
    "    \"7\": \"--...\",\n",
    "    \"8\": \"---..\",\n",
    "    \"9\": \"----.\",\n",
    "}\n",
    "\n",
    "text = str(input()).upper().split()\n",
    "for i in text:\n",
    "    word = \"\"\n",
    "    for j in i:\n",
    "        word += dict_morze[j] + \" \"\n",
    "    word = word[:-1]\n",
    "    word += \"\\n\"\n",
    "    print(word[:-1])"
   ]
  },
  {
   "cell_type": "code",
   "execution_count": null,
   "metadata": {},
   "outputs": [],
   "source": [
    "# H Решена\n",
    "\n",
    "dict_meal = dict()\n",
    "for i in range(int(input())):\n",
    "    text = str(input()).split()\n",
    "    text_name = text[0]\n",
    "    text = text[1:]\n",
    "    for j in text:\n",
    "        dict_meal[j] = dict_meal.get(j, []) + text_name.split()\n",
    "for i in sorted((dict_meal.get(str(input()), ['Таких нет']))):\n",
    "    print(i)"
   ]
  },
  {
   "cell_type": "code",
   "execution_count": 14,
   "metadata": {},
   "outputs": [
    {
     "data": {
      "text/plain": [
       "95947899754891883718198635265406591795729388343961013326205746660648433358757497113284765865744376976832226705511219598880"
      ]
     },
     "execution_count": 14,
     "metadata": {},
     "output_type": "execute_result"
    }
   ],
   "source": [
    "# codewars\n",
    "n = int(input())\n",
    "\n",
    "def recursive(n, padovan = [1, 1, 1]):\n",
    "\n",
    "    if len(padovan) == n:\n",
    "        padovan = padovan + [(padovan[n-2] + padovan[n-3])]\n",
    "        return padovan\n",
    "    return recursive(n, recursive(n - 1)) \n",
    "\n",
    "recursive(n)[-1]"
   ]
  },
  {
   "cell_type": "code",
   "execution_count": 63,
   "metadata": {},
   "outputs": [
    {
     "ename": "KeyboardInterrupt",
     "evalue": "",
     "output_type": "error",
     "traceback": [
      "\u001b[1;31m---------------------------------------------------------------------------\u001b[0m",
      "\u001b[1;31mKeyboardInterrupt\u001b[0m                         Traceback (most recent call last)",
      "Cell \u001b[1;32mIn[63], line 16\u001b[0m\n\u001b[0;32m     14\u001b[0m             a \u001b[38;5;241m=\u001b[39m a \u001b[38;5;241m/\u001b[39m d\n\u001b[0;32m     15\u001b[0m             e \u001b[38;5;241m=\u001b[39m d\n\u001b[1;32m---> 16\u001b[0m             z \u001b[38;5;241m=\u001b[39m z \u001b[38;5;241m+\u001b[39m \u001b[38;5;28;43mstr\u001b[39;49m\u001b[43m(\u001b[49m\u001b[43me\u001b[49m\u001b[43m)\u001b[49m \u001b[38;5;241m+\u001b[39m \u001b[38;5;124m\"\u001b[39m\u001b[38;5;124m * \u001b[39m\u001b[38;5;124m\"\u001b[39m\n\u001b[0;32m     17\u001b[0m \u001b[38;5;28;01melse\u001b[39;00m:\n\u001b[0;32m     18\u001b[0m     e \u001b[38;5;241m=\u001b[39m a\n",
      "\u001b[1;31mKeyboardInterrupt\u001b[0m: "
     ]
    }
   ],
   "source": [
    "# codewars\n",
    "import time \n",
    "a = int(input())\n",
    "start = time.time()\n",
    "k = 0\n",
    "d = 2\n",
    "e = 1\n",
    "z = \"\"\n",
    "if a != 2:\n",
    "    while a / e != 1:\n",
    "        if a % d != 0:\n",
    "            d = d + 1\n",
    "            e = d\n",
    "        else:\n",
    "            a = a / d\n",
    "            e = d\n",
    "            z = z + str(e) + \" * \"\n",
    "else:\n",
    "    e = a\n",
    "list_numbers = (z + str(e)).split(' * ')\n",
    "itog = 1\n",
    "if list_numbers != ['1']:\n",
    "    for i in set(list_numbers):\n",
    "        itog *= list_numbers.count(i) + 1\n",
    "print(itog)\n",
    "finish = time.time()\n",
    "res = finish - start\n",
    "res_msec = res * 1000\n",
    "print('Время работы в миллисекундах: ', res_msec)"
   ]
  },
  {
   "cell_type": "code",
   "execution_count": 36,
   "metadata": {},
   "outputs": [
    {
     "name": "stdout",
     "output_type": "stream",
     "text": [
      "['1']\n"
     ]
    }
   ],
   "source": [
    "# codewars\n",
    "a = int(input())\n",
    "k = 0\n",
    "d = 2\n",
    "e = 1\n",
    "z = \"\"\n",
    "while a / e != 1:\n",
    "    if a % d != 0:\n",
    "        d = d + 1\n",
    "        e = d\n",
    "    else:\n",
    "        a = a / d\n",
    "        e = d\n",
    "        z = z + str(e) + \" * \"\n",
    "print((z + str(e)).split(' * '))"
   ]
  },
  {
   "cell_type": "code",
   "execution_count": 76,
   "metadata": {},
   "outputs": [
    {
     "name": "stdout",
     "output_type": "stream",
     "text": [
      "Время работы в миллисекундах:  11.002302169799805\n"
     ]
    }
   ],
   "source": [
    "import time \n",
    "start = time.time()\n",
    "def divisors(n):\n",
    "    for i in range(n):\n",
    "        pass\n",
    "divisors(1000000)\n",
    "finish = time.time()\n",
    "res = finish - start\n",
    "res_msec = res * 1000\n",
    "print('Время работы в миллисекундах: ', res_msec)"
   ]
  },
  {
   "cell_type": "code",
   "execution_count": 1,
   "metadata": {},
   "outputs": [],
   "source": [
    "# тинькоф задача с стандартным выводом\n",
    "from sys import stdin\n",
    "\n",
    "sum_num = []\n",
    "for num in stdin:\n",
    "    sum_num.append(num.rstrip('\\n'))\n",
    "print(sum([int(q) for q in sum_num]))"
   ]
  },
  {
   "cell_type": "code",
   "execution_count": 1,
   "metadata": {},
   "outputs": [],
   "source": [
    "# тинькоф задача с стандартным выводом\n",
    "from sys import stdin, stdout\n",
    "\n",
    "sum_num = []\n",
    "for num in stdin:\n",
    "    sum_num.append(num.rstrip('\\n'))\n",
    "stdout.write(str(sum([int(q) for q in sum_num])))"
   ]
  },
  {
   "cell_type": "code",
   "execution_count": 4,
   "metadata": {},
   "outputs": [
    {
     "name": "stdout",
     "output_type": "stream",
     "text": [
      "100\n"
     ]
    }
   ],
   "source": [
    "# тинькоф \n",
    "numbers = str(input()).split()\n",
    "price = 0\n",
    "if int(numbers[1]) < int(numbers[3]):\n",
    "    price = int(numbers[2]) * (int(numbers[3]) - int(numbers[1]))\n",
    "price += int(numbers[0])\n",
    "print(price)"
   ]
  },
  {
   "cell_type": "code",
   "execution_count": 3,
   "metadata": {},
   "outputs": [
    {
     "name": "stdout",
     "output_type": "stream",
     "text": [
      "березка 2\n",
      "елочка 2\n",
      "зайка 3\n",
      "волк 1\n",
      "сосна 6\n",
      "медведь 1\n",
      "белочка 2\n"
     ]
    }
   ],
   "source": [
    "# I решена\n",
    "\n",
    "dict_area = dict()\n",
    "while (area := str(input()).split()) != []:\n",
    "    for i in area:\n",
    "        dict_area[i] = dict_area.get(i, 0) + 1\n",
    "for area in dict_area:\n",
    "    print(area, dict_area[area])"
   ]
  },
  {
   "cell_type": "code",
   "execution_count": 12,
   "metadata": {},
   "outputs": [
    {
     "name": "stdout",
     "output_type": "stream",
     "text": [
      "Ia pomniu chudnoe mgnovene: Peredo mnoi iavilas ty, Kak mimoletnoe videne, Kak genii chistoi krasoty.\n"
     ]
    }
   ],
   "source": [
    "# J решена\n",
    "\n",
    "a = {\"А\": \"A\",\n",
    "     \"Б\": \"B\",\n",
    "     \"В\": \"V\",\n",
    "     \"Г\": \"G\",\n",
    "     \"Д\": \"D\",\n",
    "     \"Е\": \"E\",\n",
    "     \"Ё\": \"E\",\n",
    "     \"Ж\": \"Zh\",\n",
    "     \"З\": \"Z\",\n",
    "     \"И\": \"I\",\n",
    "     \"Й\": \"I\",\n",
    "     \"К\": \"K\",\n",
    "     \"Л\": \"L\",\n",
    "     \"М\": \"M\",\n",
    "     \"Н\": \"N\",\n",
    "     \"О\": \"O\",\n",
    "     \"П\": \"P\",\n",
    "     \"Р\": \"R\",\n",
    "     \"С\": \"S\",\n",
    "     \"Т\": \"T\",\n",
    "     \"У\": \"U\",\n",
    "     \"Ф\": \"F\",\n",
    "     \"Х\": \"Kh\",\n",
    "     \"Ц\": \"Tc\",\n",
    "     \"Ч\": \"Ch\",\n",
    "     \"Ш\": \"Sh\",\n",
    "     \"Щ\": \"Shch\",\n",
    "     \"Ы\": \"Y\",\n",
    "     \"Э\": \"E\",\n",
    "     \"Ю\": \"Iu\",\n",
    "     \"Ь\": \"\",\n",
    "     \"Ъ\": \"\",\n",
    "     \"Я\": \"Ia\",\n",
    "     \" \": \" \"}\n",
    "\n",
    "word = str(input())\n",
    "new_word = ''\n",
    "for i in word:\n",
    "    if i in a:\n",
    "        new_word += a[i]\n",
    "    elif i.upper() in a:\n",
    "        new_word += a[i.upper()].lower()\n",
    "    else:\n",
    "        new_word += i\n",
    "print(new_word)"
   ]
  },
  {
   "cell_type": "code",
   "execution_count": 14,
   "metadata": {},
   "outputs": [
    {
     "name": "stdout",
     "output_type": "stream",
     "text": [
      "5\n"
     ]
    }
   ],
   "source": [
    "# K решена\n",
    "\n",
    "dict_names = dict()\n",
    "numbers = int(input())\n",
    "sum_person = 0\n",
    "for i in range(numbers):\n",
    "    name = str(input())\n",
    "    dict_names[name] = dict_names.get(name, 0) + 1\n",
    "for j in dict_names:\n",
    "    if dict_names[j] != 1:\n",
    "        sum_person += dict_names[j]\n",
    "print(sum_person)"
   ]
  },
  {
   "cell_type": "code",
   "execution_count": 18,
   "metadata": {},
   "outputs": [
    {
     "ename": "ValueError",
     "evalue": "invalid literal for int() with base 10: ''",
     "output_type": "error",
     "traceback": [
      "\u001b[1;31m---------------------------------------------------------------------------\u001b[0m",
      "\u001b[1;31mValueError\u001b[0m                                Traceback (most recent call last)",
      "Cell \u001b[1;32mIn[18], line 4\u001b[0m\n\u001b[0;32m      1\u001b[0m \u001b[38;5;66;03m# L решена\u001b[39;00m\n\u001b[0;32m      3\u001b[0m dict_names \u001b[38;5;241m=\u001b[39m \u001b[38;5;28mdict\u001b[39m()\n\u001b[1;32m----> 4\u001b[0m numbers \u001b[38;5;241m=\u001b[39m \u001b[38;5;28;43mint\u001b[39;49m\u001b[43m(\u001b[49m\u001b[38;5;28;43minput\u001b[39;49m\u001b[43m(\u001b[49m\u001b[43m)\u001b[49m\u001b[43m)\u001b[49m\n\u001b[0;32m      5\u001b[0m sum_person \u001b[38;5;241m=\u001b[39m \u001b[38;5;28;01mFalse\u001b[39;00m\n\u001b[0;32m      6\u001b[0m \u001b[38;5;28;01mfor\u001b[39;00m i \u001b[38;5;129;01min\u001b[39;00m \u001b[38;5;28mrange\u001b[39m(numbers):\n",
      "\u001b[1;31mValueError\u001b[0m: invalid literal for int() with base 10: ''"
     ]
    }
   ],
   "source": [
    "# L решена\n",
    "\n",
    "dict_names = dict()\n",
    "numbers = int(input())\n",
    "sum_person = False\n",
    "for i in range(numbers):\n",
    "    name = str(input())\n",
    "    dict_names[name] = dict_names.get(name, 0) + 1\n",
    "sorted_names = []\n",
    "for j in dict_names:\n",
    "    if dict_names[j] != 1:\n",
    "        sorted_names.append(f'{j} - {dict_names[j]}')\n",
    "        sum_person = True\n",
    "if sum_person is False:\n",
    "    print('Однофамильцев нет')\n",
    "sorted_names.sort()\n",
    "for k in sorted_names:\n",
    "    print(k)"
   ]
  },
  {
   "cell_type": "code",
   "execution_count": 22,
   "metadata": {},
   "outputs": [
    {
     "name": "stdout",
     "output_type": "stream",
     "text": [
      "Овсянка\n",
      "Манная каша\n"
     ]
    }
   ],
   "source": [
    "# M решена\n",
    "\n",
    "n = int(input())\n",
    "dishes_items = dict()\n",
    "dishes_list = set()\n",
    "for i in range(n):\n",
    "    dishes_list.add(str(input()))\n",
    "for j in range(int(input())):\n",
    "    set_temporary = set()\n",
    "    for k in range(int(input())):\n",
    "        set_temporary.add(str(input()))\n",
    "    dishes_list = dishes_list - set_temporary\n",
    "dishes_list = list(dishes_list)\n",
    "dishes_list.sort()\n",
    "if dishes_list != []:\n",
    "    for d in dishes_list:\n",
    "        print(d)\n",
    "else:\n",
    "    print('Готовить нечего')"
   ]
  },
  {
   "cell_type": "code",
   "execution_count": 28,
   "metadata": {},
   "outputs": [
    {
     "name": "stdout",
     "output_type": "stream",
     "text": [
      "[]\n"
     ]
    }
   ],
   "source": [
    "# N решена\n",
    "\n",
    "ingridients_items_all = set()\n",
    "dishes = []\n",
    "for i in range(int(input())):\n",
    "    ingridients_items_all.add(str(input()))\n",
    "for j in range(int(input())):\n",
    "    dishes_name = str(input())\n",
    "    ingridients_items = set()\n",
    "    for k in range(int(input())):\n",
    "        ingridients_items.add(str(input()))\n",
    "    if ingridients_items_all >= ingridients_items:\n",
    "        dishes.append(dishes_name)\n",
    "dishes.sort()\n",
    "if dishes != []:\n",
    "    for h in dishes:\n",
    "        print(h)\n",
    "else:\n",
    "    print('Готовить нечего')"
   ]
  },
  {
   "cell_type": "code",
   "execution_count": 37,
   "metadata": {},
   "outputs": [
    {
     "name": "stdout",
     "output_type": "stream",
     "text": [
      "[{'digits': 3, 'units': 2, 'zeros': 1}, {'digits': 4, 'units': 1, 'zeros': 3}, {'digits': 4, 'units': 2, 'zeros': 2}]\n"
     ]
    }
   ],
   "source": [
    "listing = []\n",
    "for i in (str(input()).split()):\n",
    "    a = int(i)\n",
    "    dict_numbers = dict()\n",
    "    result = []\n",
    "\n",
    "    while a:\n",
    "        result.append(a % 2)\n",
    "        a //= 2\n",
    "    result.reverse()\n",
    "    dict_numbers['digits'] = len(result)\n",
    "    dict_numbers['units'] = result.count(1)\n",
    "    dict_numbers['zeros'] = result.count(0)\n",
    "    listing.append(dict_numbers)\n",
    "print(listing)"
   ]
  },
  {
   "cell_type": "code",
   "execution_count": 9,
   "metadata": {},
   "outputs": [
    {
     "ename": "IndexError",
     "evalue": "list index out of range",
     "output_type": "error",
     "traceback": [
      "\u001b[1;31m---------------------------------------------------------------------------\u001b[0m",
      "\u001b[1;31mIndexError\u001b[0m                                Traceback (most recent call last)",
      "Cell \u001b[1;32mIn[9], line 7\u001b[0m\n\u001b[0;32m      5\u001b[0m             \u001b[38;5;28;01mif\u001b[39;00m text[i \u001b[38;5;241m-\u001b[39m \u001b[38;5;241m1\u001b[39m] \u001b[38;5;129;01min\u001b[39;00m text:\n\u001b[0;32m      6\u001b[0m                 area\u001b[38;5;241m.\u001b[39madd(text[i \u001b[38;5;241m-\u001b[39m \u001b[38;5;241m1\u001b[39m])\n\u001b[1;32m----> 7\u001b[0m             \u001b[38;5;28;01mif\u001b[39;00m \u001b[43mtext\u001b[49m\u001b[43m[\u001b[49m\u001b[43mi\u001b[49m\u001b[43m \u001b[49m\u001b[38;5;241;43m+\u001b[39;49m\u001b[43m \u001b[49m\u001b[38;5;241;43m1\u001b[39;49m\u001b[43m]\u001b[49m \u001b[38;5;129;01min\u001b[39;00m text:\n\u001b[0;32m      8\u001b[0m                 area\u001b[38;5;241m.\u001b[39madd(text[i \u001b[38;5;241m+\u001b[39m \u001b[38;5;241m1\u001b[39m])\n\u001b[0;32m      9\u001b[0m \u001b[38;5;28;01mfor\u001b[39;00m i \u001b[38;5;129;01min\u001b[39;00m area:\n",
      "\u001b[1;31mIndexError\u001b[0m: list index out of range"
     ]
    }
   ],
   "source": [
    "# P решена\n",
    "\n",
    "area = set()\n",
    "while (text := str(input()).split()) != []:\n",
    "    for i in range(len(text)):\n",
    "        if text[i] == 'зайка':\n",
    "            if i != 0:\n",
    "                area.add(text[i - 1])\n",
    "            if i != len(text) - 1:\n",
    "                area.add(text[i + 1])\n",
    "for i in area:\n",
    "    print(i)"
   ]
  },
  {
   "cell_type": "code",
   "execution_count": 27,
   "metadata": {},
   "outputs": [
    {
     "name": "stdout",
     "output_type": "stream",
     "text": [
      "[['Иванов', 'Петров'], ['Иванов', 'Сергеев'], ['Васильев', 'Петров'], ['Сергеев', 'Яковлев'], ['Петров', 'Кириллов'], ['Петров', 'Яковлев']]\n"
     ]
    }
   ],
   "source": [
    "# Q решена\n",
    "\n",
    "set_names = {'Петров', 'Васильев', 'Яковлев', 'Кириллов', 'Сергеев', 'Иванов'}\n",
    "list_names = list()\n",
    "dict_result = dict()\n",
    "while (text := str(input()).split()) != []:\n",
    "    set_names = set_names.union(set(text))\n",
    "    list_names.append(text)\n",
    "set_names = sorted(list(set_names))\n",
    "print(list_names)"
   ]
  },
  {
   "cell_type": "code",
   "execution_count": 32,
   "metadata": {},
   "outputs": [
    {
     "name": "stdout",
     "output_type": "stream",
     "text": [
      "домик\n",
      "зайчик\n",
      "кубики\n",
      "кукла\n"
     ]
    }
   ],
   "source": [
    "# S Решена\n",
    "\n",
    "all_set = set()\n",
    "no_unique = set()\n",
    "for i in range(int(input())):\n",
    "    if i == 0:\n",
    "        sting_formated = str(input()).split(\": \")\n",
    "        previos_values = set(sting_formated[1].split(\", \"))\n",
    "    else:\n",
    "        sting_formated = str(input()).split(\": \")\n",
    "        values = set(sting_formated[1].split(\", \"))\n",
    "        for value in values:\n",
    "            if value in previos_values:\n",
    "                no_unique.add(value)\n",
    "        previos_values = values.union(previos_values)\n",
    "        all_set = previos_values\n",
    "itog = all_set.symmetric_difference(no_unique)\n",
    "itog = sorted(list(itog))\n",
    "for j in itog:\n",
    "    print(j)"
   ]
  },
  {
   "cell_type": "code",
   "execution_count": 35,
   "metadata": {},
   "outputs": [
    {
     "name": "stdout",
     "output_type": "stream",
     "text": [
      "[1, 2, 3, 4, 5, 6]\n"
     ]
    }
   ],
   "source": [
    "numbers = list(map(int, input().split()))\n",
    "print(numbers)"
   ]
  },
  {
   "cell_type": "code",
   "execution_count": null,
   "metadata": {},
   "outputs": [],
   "source": []
  }
 ],
 "metadata": {
  "kernelspec": {
   "display_name": "Python 3",
   "language": "python",
   "name": "python3"
  },
  "language_info": {
   "codemirror_mode": {
    "name": "ipython",
    "version": 3
   },
   "file_extension": ".py",
   "mimetype": "text/x-python",
   "name": "python",
   "nbconvert_exporter": "python",
   "pygments_lexer": "ipython3",
   "version": "3.11.9"
  },
  "orig_nbformat": 4
 },
 "nbformat": 4,
 "nbformat_minor": 2
}
