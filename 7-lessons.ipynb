{
 "cells": [
  {
   "cell_type": "markdown",
   "metadata": {},
   "source": [
    "numbers = []\n",
    "for i in range(5):\n",
    "    numbers.append(int(input()))\n",
    "print(numbers)"
   ]
  },
  {
   "cell_type": "code",
   "execution_count": null,
   "metadata": {},
   "outputs": [],
   "source": [
    "numbers = [int(input()) for i in range(5)]\n",
    "print(numbers)"
   ]
  },
  {
   "cell_type": "code",
   "execution_count": null,
   "metadata": {},
   "outputs": [],
   "source": [
    "numbers = [int(input()) for i in range(5)]\n",
    "avg = sum(numbers) // len(numbers)\n",
    "numbers = [element for element in numbers if element > avg]\n",
    "print(numbers)"
   ]
  },
  {
   "cell_type": "code",
   "execution_count": null,
   "metadata": {},
   "outputs": [],
   "source": [
    "from copy import deepcopy\n",
    "\n",
    "numbers = [[1, 2, 3], [2, 3, 4], [3, 4, 5]]\n",
    "print(numbers[0])\n",
    "numbers_copy = numbers.copy()\n",
    "print([numbers_copy[i] is numbers[i] for i in range(len(numbers))])"
   ]
  },
  {
   "cell_type": "code",
   "execution_count": null,
   "metadata": {},
   "outputs": [],
   "source": [
    "from copy import deepcopy\n",
    "numbers = [[1, 2, 4], [2,3,4]]\n",
    "a = numbers[:]\n",
    "print([a[i] is numbers[i] for i in range(len(numbers))])\n",
    "numbers[0][1] = 3\n",
    "print(numbers)\n",
    "print(a)"
   ]
  },
  {
   "cell_type": "code",
   "execution_count": null,
   "metadata": {},
   "outputs": [],
   "source": [
    "numbers = [int(input()) for i in range(5)]\n",
    "print(numbers)"
   ]
  },
  {
   "cell_type": "code",
   "execution_count": null,
   "metadata": {},
   "outputs": [],
   "source": [
    "numbers = [int(input()) for i in range(5)]\n",
    "avg = sum(numbers) // len(numbers)\n",
    "numbers = [element for element in numbers if element > avg]\n",
    "print(numbers)"
   ]
  },
  {
   "cell_type": "code",
   "execution_count": null,
   "metadata": {},
   "outputs": [],
   "source": [
    "matrix = [[int(x) for x in input().split()] for i in range(5)]\n",
    "print(matrix)"
   ]
  },
  {
   "cell_type": "code",
   "execution_count": null,
   "metadata": {},
   "outputs": [],
   "source": [
    "zeros = [[0] * 5] * 5\n",
    "print(zeros)\n",
    "zeros[0][0] = 1\n",
    "print(zeros)"
   ]
  },
  {
   "cell_type": "code",
   "execution_count": null,
   "metadata": {},
   "outputs": [],
   "source": [
    "zeros = [[0] * 5 for i in range(5)]\n",
    "print(zeros)\n",
    "zeros[0][0] = 1\n",
    "print(zeros)"
   ]
  },
  {
   "cell_type": "code",
   "execution_count": null,
   "metadata": {},
   "outputs": [],
   "source": [
    "text = \"Строка символов\"\n",
    "codes = [ord(i) for i in text]\n",
    "print(codes)\n"
   ]
  },
  {
   "cell_type": "code",
   "execution_count": null,
   "metadata": {},
   "outputs": [],
   "source": [
    "countries = {\"Россия\": [\"русский\"],\n",
    "             \"Беларусь\": [\"белорусский\", \"русский\"],\n",
    "             \"Бельгия\": [\"немецкий\", \"французский\", \"нидерландский\"],\n",
    "             \"Вьетнам\": [\"вьетнамский\"]}\n",
    "multi = [country for (country, language) in countries.items() if len(language) > 1]\n",
    "print(multi)"
   ]
  },
  {
   "cell_type": "code",
   "execution_count": null,
   "metadata": {},
   "outputs": [],
   "source": [
    "countries = {country: capital for country, capital in [(\"Россия\", \"Москва\"),\n",
    "              (\"Беларусь\", \"Минск\"),\n",
    "              (\"Сербия\", \"Белград\")]}\n",
    "print(countries)"
   ]
  },
  {
   "cell_type": "code",
   "execution_count": null,
   "metadata": {},
   "outputs": [],
   "source": [
    "from sys import getsizeof\n",
    "numbers_iter = (i for i in range(10 ** 6))\n",
    "print(f\"Итератор занимает {getsizeof(numbers_iter)} байт.\")\n",
    "number_list = list(range(10 ** 6))\n",
    "print(f\"Список занимает {getsizeof(number_list)} байт.\")"
   ]
  },
  {
   "cell_type": "code",
   "execution_count": null,
   "metadata": {},
   "outputs": [],
   "source": [
    "x = 16\n",
    "print(id(x))\n",
    "y = x\n",
    "print(id(y))\n",
    "y = 15\n",
    "print(id(x))\n",
    "print(id(y))\n"
   ]
  },
  {
   "cell_type": "code",
   "execution_count": null,
   "metadata": {},
   "outputs": [],
   "source": [
    "a = 5\n",
    "b = 5.4\n",
    "c = \"asd\"\n",
    "d = (1, 2, \"ads\")\n",
    "e = (a, b, c, d)\n",
    "x = [id(x) for x in e]\n",
    "print(x)"
   ]
  },
  {
   "cell_type": "code",
   "execution_count": null,
   "metadata": {},
   "outputs": [],
   "source": [
    "a = 5\n",
    "print(id(a))\n",
    "a = a\n",
    "print(id(a))"
   ]
  },
  {
   "cell_type": "code",
   "execution_count": null,
   "metadata": {},
   "outputs": [],
   "source": [
    "a = [3, 5, 7]\n",
    "print(id(a))\n",
    "a += [4]\n",
    "print(id(a))"
   ]
  },
  {
   "cell_type": "code",
   "execution_count": null,
   "metadata": {},
   "outputs": [],
   "source": [
    "a = [3, 5, 7]\n",
    "print(id(a))\n",
    "k = a\n",
    "print(id(k))\n",
    "a = a + [4]\n",
    "print(id(a))\n",
    "print(id(k))\n",
    "print(k)\n",
    "print(a)"
   ]
  },
  {
   "cell_type": "code",
   "execution_count": null,
   "metadata": {},
   "outputs": [],
   "source": [
    "# a решена\n",
    "a = -5\n",
    "b = 5\n",
    "print([x ** 2 for x in range(a, b + 1)])"
   ]
  },
  {
   "cell_type": "code",
   "execution_count": null,
   "metadata": {},
   "outputs": [],
   "source": [
    "# b решена\n",
    "n = 3\n",
    "print([[i * z for z in range(1, n + 1)] for i in range(1, n + 1)])"
   ]
  },
  {
   "cell_type": "code",
   "execution_count": null,
   "metadata": {},
   "outputs": [],
   "source": [
    "# c решена\n",
    "sentence = \"Мама мыла раму\"\n",
    "print([len(x) for x in sentence.split()])"
   ]
  },
  {
   "cell_type": "code",
   "execution_count": null,
   "metadata": {},
   "outputs": [],
   "source": [
    "# d решена\n",
    "numbers = [1, 2, 3, 4, 5]\n",
    "print({x for x in numbers if x % 2 != 0})"
   ]
  },
  {
   "cell_type": "code",
   "execution_count": null,
   "metadata": {},
   "outputs": [],
   "source": [
    "# e решено\n",
    "numbers = [number for number in range(16, 100, 4)]\n",
    "print({x for x in numbers if x ** 0.5 == int(x ** 0.5)})"
   ]
  },
  {
   "cell_type": "code",
   "execution_count": null,
   "metadata": {},
   "outputs": [],
   "source": [
    "# F решено\n",
    "text = '''Ехали медведи\n",
    "На велосипеде.\n",
    "\n",
    "А за ними кот\n",
    "Задом наперёд.'''\n",
    "print({word: text.lower().count(word) for word in {tuk for tuk in list(text.lower()) if str(tuk).isalpha()}})"
   ]
  },
  {
   "cell_type": "code",
   "execution_count": null,
   "metadata": {},
   "outputs": [],
   "source": [
    "numbers = {15,49, 36}\n",
    "print([[qwe for qwe in range(1, delit + 1) if delit / qwe == int(delit / qwe)] for delit in numbers])"
   ]
  },
  {
   "cell_type": "code",
   "execution_count": null,
   "metadata": {},
   "outputs": [],
   "source": [
    "numbers = {15,49, 36}\n",
    "print([delit for delit in {number for number in numbers}])"
   ]
  },
  {
   "cell_type": "code",
   "execution_count": null,
   "metadata": {},
   "outputs": [],
   "source": [
    "numbers = {15,49, 36}\n",
    "print({num: delit for delit in [qwe for qwe in range(1, delit + 1) if delit / qwe == int(delit / qwe)] for delit in {number for number in numbers}})"
   ]
  },
  {
   "cell_type": "code",
   "execution_count": null,
   "metadata": {},
   "outputs": [],
   "source": [
    "d = [t * 3 for t in range(1,6)]\n",
    "print(d)"
   ]
  },
  {
   "cell_type": "code",
   "execution_count": null,
   "metadata": {},
   "outputs": [],
   "source": [
    "a = [1, 10, 12, 4, 3, 20, 55]\n",
    "a_filtered = []\n",
    "for num in a:\n",
    "    if num < 10:\n",
    "        a_filtered.append(num)\n",
    "print(a_filtered)"
   ]
  },
  {
   "cell_type": "code",
   "execution_count": null,
   "metadata": {},
   "outputs": [],
   "source": [
    "a_filtered = [num ** 2 for num in a if num < 10]\n",
    "print(a_filtered)"
   ]
  },
  {
   "cell_type": "code",
   "execution_count": null,
   "metadata": {},
   "outputs": [],
   "source": [
    "words = [\"hello\", \"hey\", \"goodbye\", \"guitar\", \"piano\"]\n",
    "words_filtered = [word for word in words if len(word) < 6]\n",
    "print(words_filtered)"
   ]
  },
  {
   "cell_type": "code",
   "execution_count": null,
   "metadata": {},
   "outputs": [],
   "source": [
    "tu = [word * 2 for word in range(10, 1, -1) if word % 2 == 0]\n",
    "print(tu)"
   ]
  },
  {
   "cell_type": "code",
   "execution_count": null,
   "metadata": {},
   "outputs": [],
   "source": [
    "words = [\"hello\", \"hey\", \"goodbye\", \"guitar\", \"piano\"]\n",
    "new = [ni + \".\" for ni in words if len(ni) > 5]\n",
    "print(new)"
   ]
  },
  {
   "cell_type": "code",
   "execution_count": null,
   "metadata": {},
   "outputs": [],
   "source": [
    "# G решена\n",
    "numbers = {1, 2, 3, 4, 5}\n",
    "res = {chi: [delit for delit in range(1, chi + 1) if chi / delit == int(chi / delit)] for chi in numbers}\n",
    "print(res)"
   ]
  },
  {
   "cell_type": "code",
   "execution_count": null,
   "metadata": {},
   "outputs": [],
   "source": [
    "# H решена\n",
    "string = 'открытое акционерное общество'\n",
    "kes = \"\".join([rf[0].upper() for rf in string.split()])\n",
    "print(kes)"
   ]
  },
  {
   "cell_type": "code",
   "execution_count": null,
   "metadata": {},
   "outputs": [],
   "source": [
    "# i Решена\n",
    "numbers = [3, 1, 2, 3, 2, 2, 99, 123, 43, 12, 14, 1534, 12, 43]\n",
    "kl = \" - \".join([str(q) for q in sorted({qw for qw in numbers})])\n",
    "print(kl)\n",
    "\n",
    "numbers = [3, 1, 2, 3, 2, 2, 99, 123, 43, 12, 14, 1534, 12, 43]\n",
    "kl = \" - \".join([str(q) for q in sorted([qw for qw in set(numbers)])])\n",
    "print(kl)"
   ]
  },
  {
   "cell_type": "code",
   "execution_count": null,
   "metadata": {},
   "outputs": [],
   "source": [
    "# j Решена\n",
    "rle = [('a', 2), ('b', 3), ('c', 1)]\n",
    "ki = \"\".join([fa * da for (fa, da) in rle])\n",
    "print(ki)"
   ]
  },
  {
   "cell_type": "code",
   "execution_count": null,
   "metadata": {},
   "outputs": [],
   "source": [
    "# A Решена\n",
    "\n",
    "zeros = [[0] * 5 for i in range(5)]\n",
    "print(zeros)\n",
    "zeros[0][0] = 1\n",
    "print(zeros)"
   ]
  },
  {
   "cell_type": "code",
   "execution_count": null,
   "metadata": {},
   "outputs": [],
   "source": [
    "from sys import getsizeof\n",
    "\n",
    "number_iter = (i for i in range(10 ** 6))\n",
    "print(f'Итератор занимает {getsizeof(number_iter)} байт')\n",
    "numbers_list = list(range(10 ** 6))\n",
    "# Выводим количество байт, занятых списком\n",
    "print(f\"Список занимает {getsizeof(numbers_list)} байт.\")"
   ]
  },
  {
   "cell_type": "code",
   "execution_count": null,
   "metadata": {},
   "outputs": [],
   "source": [
    "from timeit import timeit\n",
    "\n",
    "print(round(timeit(\"s = '; '.join(str(x) for x in range(10 ** 7))\", number=10), 3))\n",
    "print(round(timeit(\"s = '; '.join([str(x) for x in list(range(10 ** 7))])\", number=10), 3))"
   ]
  },
  {
   "cell_type": "code",
   "execution_count": null,
   "metadata": {},
   "outputs": [],
   "source": [
    "x = 5\n",
    "print(id(x))\n",
    "x = 10\n",
    "print(id(x))"
   ]
  },
  {
   "cell_type": "code",
   "execution_count": null,
   "metadata": {},
   "outputs": [],
   "source": [
    "x = 1\n",
    "y = x\n",
    "print(id(x))\n",
    "print(id(y))\n",
    "print(x == y)\n",
    "print(x is y)"
   ]
  },
  {
   "cell_type": "code",
   "execution_count": null,
   "metadata": {},
   "outputs": [],
   "source": [
    "x = [el ** 2 for el in range(5)]\n",
    "y = [el ** 2 for el in range(5)]\n",
    "print(x == y)\n",
    "print(x is y)"
   ]
  },
  {
   "cell_type": "code",
   "execution_count": null,
   "metadata": {},
   "outputs": [],
   "source": [
    "x = 2\n",
    "print(id(x))\n",
    "x = 1\n",
    "print(id(x))\n",
    "y = 1\n",
    "z = 2\n",
    "print(id(y))\n",
    "print(id(z))\n",
    "\n",
    "x = {}\n",
    "print(id(x))\n",
    "print(id(x))"
   ]
  },
  {
   "cell_type": "code",
   "execution_count": null,
   "metadata": {},
   "outputs": [],
   "source": [
    "z = 1\n",
    "print(id(z))\n",
    "x = frozenset({1, 2, 3})\n",
    "# x.add(4)\n",
    "print(1 in x)"
   ]
  },
  {
   "cell_type": "code",
   "execution_count": null,
   "metadata": {},
   "outputs": [],
   "source": [
    "x = [1, 2, 3]\n",
    "y = x\n",
    "print(x is y)\n",
    "x[0] = 0\n",
    "print(x)\n",
    "print(y)\n",
    "print(x is y)"
   ]
  },
  {
   "cell_type": "code",
   "execution_count": null,
   "metadata": {},
   "outputs": [],
   "source": [
    "numbers = [1, 2, 3]\n",
    "print(f\"{numbers}, id = {id(numbers)}\")\n",
    "numbers = numbers + [4]\n",
    "print(f\"{numbers}, id = {id(numbers)}\")"
   ]
  },
  {
   "cell_type": "code",
   "execution_count": null,
   "metadata": {},
   "outputs": [],
   "source": [
    "x = [1, ]\n",
    "print(id(x))\n",
    "z = x\n",
    "x = 1\n",
    "print(z)\n",
    "print(z is x)"
   ]
  },
  {
   "cell_type": "code",
   "execution_count": null,
   "metadata": {},
   "outputs": [],
   "source": [
    "class SingletonMeta():\n",
    "    def __new__(cls, name):\n",
    "        if \n",
    "\n",
    "\n",
    "    \n",
    "    def __init__(self , privet):\n",
    "        self.privet = privet\n",
    "    \n",
    "\n"
   ]
  },
  {
   "cell_type": "code",
   "execution_count": null,
   "metadata": {},
   "outputs": [],
   "source": [
    "# A Решена\n",
    "[q**2 for q in range(a, b + 1)]"
   ]
  },
  {
   "cell_type": "code",
   "execution_count": null,
   "metadata": {},
   "outputs": [],
   "source": [
    "# Б Решена\n",
    "[[q * i for q in range(1, n + 1)] for i in range(1, n + 1)]"
   ]
  },
  {
   "cell_type": "code",
   "execution_count": null,
   "metadata": {},
   "outputs": [],
   "source": [
    "# С решена\n",
    "\n",
    "[len(q) for q in sentence.split()]"
   ]
  },
  {
   "cell_type": "code",
   "execution_count": null,
   "metadata": {},
   "outputs": [],
   "source": [
    "# D решена\n",
    "\n",
    "{q for q in numbers if q % 2 != 0}"
   ]
  },
  {
   "cell_type": "code",
   "execution_count": null,
   "metadata": {},
   "outputs": [],
   "source": [
    "# E решена\n",
    "\n",
    "{q for q in numbers if q == int((q ** 0.5)) ** 2}"
   ]
  },
  {
   "cell_type": "code",
   "execution_count": null,
   "metadata": {},
   "outputs": [],
   "source": [
    "# F решена\n",
    "text = 'Мама мыла раму!'\n",
    "{word: text.lower().count(word) for word in text.lower() if word.isalpha()}\n"
   ]
  },
  {
   "cell_type": "code",
   "execution_count": null,
   "metadata": {},
   "outputs": [],
   "source": [
    "# G решена\n",
    "numbers = {1, 2, 3, 4, 5}\n",
    "{number: [num for num in range(1, number + 1) if number % num == 0] for number in numbers}"
   ]
  },
  {
   "cell_type": "code",
   "execution_count": null,
   "metadata": {},
   "outputs": [],
   "source": [
    "# H решена\n",
    "string = 'Российская Федерация'\n",
    "('').join([text[0].upper() for text in string.split()])"
   ]
  },
  {
   "cell_type": "code",
   "execution_count": null,
   "metadata": {},
   "outputs": [],
   "source": [
    "# I решена\n",
    "numbers = [1, 2]\n",
    "\" - \".join([str(num) for num in sorted(set(numbers))])"
   ]
  },
  {
   "cell_type": "code",
   "execution_count": null,
   "metadata": {},
   "outputs": [],
   "source": [
    "# J решена\n",
    "rle = [('a', 2), ('b', 3), ('c', 1)]\n",
    "''.join([text[0] * text[1] for text in rle])"
   ]
  },
  {
   "cell_type": "code",
   "execution_count": null,
   "metadata": {},
   "outputs": [],
   "source": [
    "def list_modify_1(sample_1):\n",
    "    # создаём новый локальный список, не имеющий связи с внешним\n",
    "    sample_1 = [1, 2, 3, 4]\n",
    "\n",
    "\n",
    "def list_modify_2(sample_2):\n",
    "    # меняем исходный внешний список, переданный как аргумент\n",
    "    sample_2 += [4]\n",
    "    print(id(sample_2))\n",
    "\n",
    "\n",
    "sample_1 = [1, 2, 3]\n",
    "sample_2 = [1, 2, 3]\n",
    "print(id(sample_2))\n",
    "list_modify_1(sample_1)\n",
    "list_modify_2(sample_2)\n",
    "print(sample_1)\n",
    "print(sample_2)"
   ]
  },
  {
   "cell_type": "code",
   "execution_count": null,
   "metadata": {},
   "outputs": [],
   "source": [
    "def y():\n",
    "    x = 1\n",
    "    print(id(x))\n",
    "    return x\n",
    "\n",
    "x = 1\n",
    "y()\n",
    "print(id(x))\n",
    "print(x)\n",
    "print(x is y())"
   ]
  },
  {
   "cell_type": "code",
   "execution_count": 93,
   "metadata": {},
   "outputs": [
    {
     "name": "stdout",
     "output_type": "stream",
     "text": [
      "[0]\n",
      "[1, 2, 3, 0]\n",
      "[0, 1]\n"
     ]
    }
   ],
   "source": [
    "def add_value(x, list_arg=[]):\n",
    "    list_arg += [x]\n",
    "    return list_arg\n",
    "\n",
    "\n",
    "print(add_value(0))\n",
    "print(add_value(0, [1, 2, 3]))\n",
    "print(add_value(1))"
   ]
  },
  {
   "cell_type": "code",
   "execution_count": 14,
   "metadata": {},
   "outputs": [
    {
     "name": "stdout",
     "output_type": "stream",
     "text": [
      "[0]\n",
      "[1, 2, 3, 0]\n",
      "[1]\n"
     ]
    }
   ],
   "source": [
    "def Nin(x, list_arg=None):\n",
    "    if list_arg == None:\n",
    "        list_arg = []\n",
    "    list_arg += [x]\n",
    "    return list_arg\n",
    "\n",
    "print(Nin(0))\n",
    "print(Nin(0, [1, 2, 3]))\n",
    "print(Nin(1))"
   ]
  },
  {
   "cell_type": "code",
   "execution_count": 21,
   "metadata": {},
   "outputs": [
    {
     "name": "stdout",
     "output_type": "stream",
     "text": [
      "abcd\n",
      "efgh\n",
      "ijkl\n",
      "['abCD', 'EFGh', 'IJkl']\n"
     ]
    }
   ],
   "source": [
    "listing = [\"abCD\", \"EFGh\", \"IJkl\"]\n",
    "numbers = map(str.lower, listing)\n",
    "print((\"\\n\").join(numbers))\n",
    "print(listing)"
   ]
  },
  {
   "cell_type": "code",
   "execution_count": 29,
   "metadata": {},
   "outputs": [
    {
     "name": "stdout",
     "output_type": "stream",
     "text": [
      "-2, 10, 12, -20, 0\n",
      "[-1, 5, 6, -10, 0]\n"
     ]
    }
   ],
   "source": [
    "listing = [-1, 5, 6, -10, 0]\n",
    "numbers = map(lambda x: x * 2, listing)\n",
    "print(\", \".join(str(x) for x in numbers))\n",
    "print(listing)"
   ]
  },
  {
   "cell_type": "code",
   "execution_count": 39,
   "metadata": {},
   "outputs": [
    {
     "name": "stdout",
     "output_type": "stream",
     "text": [
      "['ab', 'abc', 'abcd', 'abcdef']\n"
     ]
    }
   ],
   "source": [
    "lines = [\"abcd\", \"ab\", \"abc\", \"abcdef\"]\n",
    "print(sorted(lines, key=lambda line: (len(line), line)))"
   ]
  },
  {
   "cell_type": "code",
   "execution_count": 40,
   "metadata": {},
   "outputs": [],
   "source": [
    "# A решена\n",
    "\n",
    "def make_list(length, value=0):\n",
    "    return [value, ] * length"
   ]
  },
  {
   "cell_type": "code",
   "execution_count": 51,
   "metadata": {},
   "outputs": [
    {
     "name": "stdout",
     "output_type": "stream",
     "text": [
      "[[1, 1, 1, 1], [1, 1, 1, 1]]\n"
     ]
    }
   ],
   "source": [
    "# Б решена\n",
    "\n",
    "def make_matrix(size, value=0):\n",
    "    if type(size) is int:\n",
    "        return [[value for q in range(size)] for q in range(size)]\n",
    "    else:\n",
    "        return [[value for q in range(size[0])] for q in range(size[1])]\n",
    "\n",
    "    \n",
    "result = make_matrix((4, 2), 1)\n",
    "print(result)"
   ]
  },
  {
   "cell_type": "code",
   "execution_count": 55,
   "metadata": {},
   "outputs": [
    {
     "name": "stdout",
     "output_type": "stream",
     "text": [
      "January\n"
     ]
    }
   ],
   "source": [
    "# С нерешена\n",
    "\n",
    "def month(number, language='ru'):\n",
    "    dic = {\"en\": [\"January\", \"February\", \"March\", \"April\", \"May\", \"June\", \"July\", \"August\",\n",
    "           \"September\", \"October\", \"November\", \"December\"],\n",
    "           \"ru\": [\"Январь\", \"Февраль\", \"Март\", \"Апрель\", \"Май\", \"Июнь\", \"Июль\", \"Август\", \"Сентябрь\",\n",
    "                  \"Октябрь\", \"Ноябрь\", \"Декабрь\"]\n",
    "           }\n",
    "    return dic[language][number - 1]\n",
    "result = month(1, \"en\")\n",
    "print(result)"
   ]
  },
  {
   "cell_type": "code",
   "execution_count": 61,
   "metadata": {},
   "outputs": [
    {
     "name": "stdout",
     "output_type": "stream",
     "text": [
      "7, 3, 1, hello, (1, 2, 3)!\n"
     ]
    }
   ],
   "source": [
    "# E решена\n",
    "\n",
    "def to_string(*data, sep=' ', end='\\n'):\n",
    "    return (sep.join(map(str, data))) + end\n",
    "\n",
    "data = [7, 3, 1, \"hello\", (1, 2, 3)]\n",
    "result = to_string(*data, sep=\", \", end=\"!\")\n",
    "print(result)"
   ]
  },
  {
   "cell_type": "code",
   "execution_count": 151,
   "metadata": {},
   "outputs": [
    {
     "name": "stdout",
     "output_type": "stream",
     "text": [
      "['coffee', 'milk', 'cream']\n",
      "['coffee', 'milk', 'cream']\n"
     ]
    }
   ],
   "source": [
    "# F не решена\n",
    "\n",
    "in_stock = {\"coffee\": 1, \"milk\": 2, \"cream\": 3}\n",
    "\n",
    "\n",
    "def order(*drinks):\n",
    "    recept = {\n",
    "        \"Эспрессо\": {\"coffee\": 1, \"milk\": 0, \"cream\": 0},\n",
    "        \"Капучино\": {\"coffee\": 1, \"milk\": 3, \"cream\": 0},\n",
    "        \"Макиато\": {\"coffee\": 2, \"milk\": 1, \"cream\": 0},\n",
    "        \"Кофе по-венски\": {\"coffee\": 1, \"milk\": 0, \"cream\": 2},\n",
    "        \"Латте Макиато\": {\"coffee\": 1, \"milk\": 2, \"cream\": 1},\n",
    "        \"Кон Панна\": {\"coffee\": 1, \"milk\": 0, \"cream\": 1},\n",
    "    }\n",
    "    for i in drinks:\n",
    "        x = list(filter(lambda x: x, recept[i]))\n",
    "\n",
    "        return x\n",
    "\n",
    "\n",
    "print(\n",
    "    order(\n",
    "        \"Эспрессо\",\n",
    "        \"Капучино\",\n",
    "        \"Макиато\",\n",
    "        \"Кофе по-венски\",\n",
    "        \"Латте Макиато\",\n",
    "        \"Кон Панна\",\n",
    "    )\n",
    ")\n",
    "print(\n",
    "    order(\n",
    "        \"Эспрессо\",\n",
    "        \"Капучино\",\n",
    "        \"Макиато\",\n",
    "        \"Кофе по-венски\",\n",
    "        \"Латте Макиато\",\n",
    "        \"Кон Панна\",\n",
    "    )\n",
    ")"
   ]
  },
  {
   "cell_type": "code",
   "execution_count": null,
   "metadata": {},
   "outputs": [],
   "source": [
    "chislo = 1\n",
    "float = 1.1\n",
    "stroka = 'asdasd'\n",
    "set = {1, 2, 'asd'}\n",
    "\n",
    "list = [1, 2, 3, 4]\n"
   ]
  },
  {
   "cell_type": "code",
   "execution_count": 70,
   "metadata": {},
   "outputs": [
    {
     "name": "stdout",
     "output_type": "stream",
     "text": [
      "[1, 2]\n"
     ]
    }
   ],
   "source": [
    "x = [1, 2]\n",
    "print(id(x))\n",
    "x = [1, 2, 3]\n",
    "y = x\n",
    "print(id(x))\n",
    "print(x == y)\n",
    "print(x is y)\n",
    "print(y)"
   ]
  },
  {
   "cell_type": "code",
   "execution_count": 134,
   "metadata": {},
   "outputs": [
    {
     "name": "stdout",
     "output_type": "stream",
     "text": [
      "140705193685800\n",
      "1\n",
      "140705193685800\n"
     ]
    }
   ],
   "source": [
    "x = [3, 2, 1]\n",
    "print(id(x))\n",
    "x.sort()\n",
    "print(x)\n",
    "print(id(x))"
   ]
  },
  {
   "cell_type": "code",
   "execution_count": null,
   "metadata": {},
   "outputs": [],
   "source": []
  },
  {
   "cell_type": "code",
   "execution_count": null,
   "metadata": {},
   "outputs": [],
   "source": []
  }
 ],
 "metadata": {
  "kernelspec": {
   "display_name": "Python 3",
   "language": "python",
   "name": "python3"
  },
  "language_info": {
   "codemirror_mode": {
    "name": "ipython",
    "version": 3
   },
   "file_extension": ".py",
   "mimetype": "text/x-python",
   "name": "python",
   "nbconvert_exporter": "python",
   "pygments_lexer": "ipython3",
   "version": "3.11.9"
  },
  "orig_nbformat": 4
 },
 "nbformat": 4,
 "nbformat_minor": 2
}
