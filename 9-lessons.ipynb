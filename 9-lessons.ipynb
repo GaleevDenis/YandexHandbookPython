{
 "cells": [
  {
   "cell_type": "code",
   "execution_count": null,
   "metadata": {},
   "outputs": [],
   "source": [
    "from sys import stdin\n",
    "\n",
    "lines = []\n",
    "for line in stdin:\n",
    "    lines.append(line.rstrip(\"\\n\"))\n",
    "print(lines)"
   ]
  },
  {
   "cell_type": "code",
   "execution_count": null,
   "metadata": {},
   "outputs": [],
   "source": [
    "import sys\n",
    "\n",
    "temp = sys.stdout\n",
    "sys.stdout = open('log.txt', 'w')\n",
    "print('testing123')\n",
    "print('another line')\n",
    "sys.stdout.close()\n",
    "sys.stdout = temp\n",
    "print('back to normal')"
   ]
  },
  {
   "cell_type": "code",
   "execution_count": null,
   "metadata": {},
   "outputs": [],
   "source": []
  },
  {
   "cell_type": "code",
   "execution_count": null,
   "metadata": {},
   "outputs": [],
   "source": [
    "with open(\"input_1.txt\", encoding=\"UTF-8\") as file_in:\n",
    "    lines = file_in.readlines()\n",
    "print(lines)"
   ]
  },
  {
   "cell_type": "code",
   "execution_count": null,
   "metadata": {},
   "outputs": [],
   "source": [
    "with open(\"input_1.txt\", encoding=\"UTF-8\") as file_in:\n",
    "    symbols = file_in.read(10)\n",
    "print([symbols])"
   ]
  },
  {
   "cell_type": "code",
   "execution_count": null,
   "metadata": {},
   "outputs": [],
   "source": [
    "with open(\"outpur_1.txt\", \"w\", encoding=\"UTF-8\") as file_out:\n",
    "    n = file_out.write(\"Это первая строка\\nЭто вторая строка\\nИ третья строка\\n\")\n",
    "print(n)"
   ]
  },
  {
   "cell_type": "code",
   "execution_count": null,
   "metadata": {},
   "outputs": [],
   "source": [
    "lines = {\"Это первая строка\\n\", \"А это вторая строка\\n\", \"И третья = последняя\\n\"}\n",
    "with open(\"output_2.txt\", \"w+\", encoding=\"UTF-8\") as file_out:\n",
    "    file_out.writelines(lines)\n",
    "    file_out.read()"
   ]
  },
  {
   "cell_type": "code",
   "execution_count": null,
   "metadata": {},
   "outputs": [],
   "source": [
    "with open(\"output_3.txt\", \"w\", encoding=\"UTF-8\") as file_out:\n",
    "    print(\"написать это в файл\", file=file_out)"
   ]
  },
  {
   "cell_type": "code",
   "execution_count": null,
   "metadata": {},
   "outputs": [],
   "source": [
    "import json\n",
    "\n",
    "\n",
    "with open(\"data.json\", encoding=\"UTF-8\") as file_in:\n",
    "    records = json.load(file_in)\n",
    "records[1][\"group_number\"] = 2\n",
    "with open(\"data.json\", \"w\", encoding=\"UTF-8\") as file_out:\n",
    "    json.dump(records, file_out, ensure_ascii=False, indent=2)"
   ]
  },
  {
   "cell_type": "code",
   "execution_count": 5,
   "metadata": {},
   "outputs": [],
   "source": [
    "# A решена\n",
    "from sys import stdin\n",
    "\n",
    "d = 0\n",
    "lines = stdin.readlines()\n",
    "for i in range(len(lines)):\n",
    "    lines[i] = lines[i].rstrip('\\n')\n",
    "    lines[i] = lines[i].split(\" \")\n",
    "for g in range(len(lines)):\n",
    "    for b in range(len(lines[g])):\n",
    "        d += int(lines[g][b])\n",
    "print(d)"
   ]
  },
  {
   "cell_type": "code",
   "execution_count": null,
   "metadata": {},
   "outputs": [],
   "source": [
    "k = [\"1 2\"]\n",
    "k = k[0].split(\" \")\n",
    "print(k)"
   ]
  },
  {
   "cell_type": "code",
   "execution_count": 1,
   "metadata": {},
   "outputs": [],
   "source": [
    "# A решена\n",
    "from sys import stdin\n",
    "\n",
    "s = 0\n",
    "for line in stdin:\n",
    "    s += sum(map(int, line.split()))\n",
    "print(s)"
   ]
  },
  {
   "cell_type": "code",
   "execution_count": null,
   "metadata": {},
   "outputs": [],
   "source": [
    "# B решена\n",
    "from sys import stdin\n",
    "\n",
    "sr_rost_before = 0\n",
    "sr_rost_after = 0\n",
    "d = 0\n",
    "for line in stdin:\n",
    "    sr_rost_before += int(line.split()[1])\n",
    "    sr_rost_after += int(line.split()[2])\n",
    "    d += 1\n",
    "k = round((sr_rost_after - sr_rost_before) / d)\n",
    "print(k)"
   ]
  },
  {
   "cell_type": "code",
   "execution_count": null,
   "metadata": {},
   "outputs": [],
   "source": [
    "# C Решена\n",
    "\n",
    "from sys import stdin\n",
    "\n",
    "lines = []\n",
    "for line in stdin:\n",
    "    line = line.rstrip('\\n')\n",
    "    z = line.find(\"#\")\n",
    "    if z == -1:\n",
    "        lines.append(line)\n",
    "    elif z == 0:\n",
    "        pass\n",
    "    else:\n",
    "        lines.append(line[:z])\n",
    "for line in lines:\n",
    "    print(line)"
   ]
  },
  {
   "cell_type": "code",
   "execution_count": 2,
   "metadata": {},
   "outputs": [
    {
     "name": "stdout",
     "output_type": "stream",
     "text": [
      "SDASDA\n"
     ]
    }
   ],
   "source": [
    "# D решена\n",
    "\n",
    "from sys import stdin\n",
    "\n",
    "lines = stdin.readlines()\n",
    "for i in range(len(lines)):\n",
    "    lines[i] = lines[i].rstrip(\"\\n\")\n",
    "lines2 = []\n",
    "for i in range(len(lines)):\n",
    "    if (lines[i].upper().find(lines[-1].upper()) != -1) and lines[i] != lines[-1]:\n",
    "        lines2.append(lines[i])\n",
    "for i in lines2:\n",
    "    print(i)"
   ]
  },
  {
   "cell_type": "code",
   "execution_count": 2,
   "metadata": {},
   "outputs": [
    {
     "name": "stdout",
     "output_type": "stream",
     "text": [
      "ytrewq\n"
     ]
    }
   ],
   "source": [
    "# E Решена\n",
    "\n",
    "from sys import stdin\n",
    "\n",
    "lines = stdin.readlines()\n",
    "lines_2 = set()\n",
    "for i in range(len(lines)):\n",
    "    lines[i] = (lines[i].rstrip(\"\\n\")).split()\n",
    "    for b in range(len(lines[i])):\n",
    "        if lines[i][b].upper() == lines[i][b].upper()[-1::-1]:\n",
    "            lines_2.add(lines[i][b])\n",
    "lines_2 = sorted(list(lines_2))\n",
    "for i in lines_2:\n",
    "    print(i)"
   ]
  },
  {
   "cell_type": "code",
   "execution_count": 1,
   "metadata": {},
   "outputs": [
    {
     "name": "stdout",
     "output_type": "stream",
     "text": [
      "Privet, mir!Privet, mir!\n"
     ]
    }
   ],
   "source": [
    "# F Не Решена\n",
    "\n",
    "a = {\"А\": \"A\", \"Б\": \"B\", \"В\": \"V\", \"Г\": \"G\", \"Д\": \"D\", \"Е\": \"E\", \"Ё\": \"E\", \"Ж\": \"ZH\", \"З\": \"Z\", \"И\": \"I\",\n",
    "     \"Й\": \"I\", \"К\": \"K\", \"Л\": \"L\", \"М\": \"M\", \"Н\": \"N\", \"О\": \"O\", \"П\": \"P\", \"Р\": \"R\", \"С\": \"S\", \"Т\": \"T\", \"У\": \"U\",\n",
    "     \"Ф\": \"F\", \"Х\": \"KH\", \"Ц\": \"TC\", \"Ч\": \"CH\", \"Ш\": \"SH\", \"Щ\": \"SHCH\", \"Ы\": \"Y\", \"Э\": \"E\", \"Ю\": \"IU\", \"Ь\": \"\",\n",
    "     \"Ъ\": \"\", \"Я\": \"IA\", \" \": \" \"}\n",
    "\n",
    "with open(file=\"cyrillic.txt\", mode=\"+r\", encoding=\"UTF-8\") as file_in:\n",
    "    b = file_in.read()\n",
    "    b = b.rstrip(\"\\n\")\n",
    "c = list()\n",
    "for i in range(len(b)):\n",
    "    if b[i] in a:\n",
    "        c.append(a[b[i]].capitalize())\n",
    "    elif b[i].upper() in a:\n",
    "        c.append(a[b[i].upper()].lower())\n",
    "    else:\n",
    "        c.append(b[i])\n",
    "c = \"\".join(c)\n",
    "z = str()\n",
    "with open(file=\"transliteration.txt\", mode=\"+a\", encoding=\"UTF-8\") as file_out:\n",
    "    file_out.write(c)\n",
    "with open(file=\"transliteration.txt\", mode=\"+r\", encoding=\"UTF-8\") as file_out:\n",
    "    z = file_out.read()\n",
    "print(z)"
   ]
  },
  {
   "cell_type": "code",
   "execution_count": 41,
   "metadata": {},
   "outputs": [
    {
     "name": "stdout",
     "output_type": "stream",
     "text": [
      "['1 2 3 4 5\\n-5 -4 -3 -2 -1\\n10 20\\n20 10']\n"
     ]
    }
   ],
   "source": [
    "# G Решена\n",
    "\n",
    "a = str(input())\n",
    "b = []\n",
    "c = []\n",
    "with open(file=a, mode='r+', encoding=\"UTF-8\") as file_read:\n",
    "    b = file_read.readlines()\n",
    "for line in range(len(b)):\n",
    "    b[line] = b[line].rstrip(\"\\n\")\n",
    "    b[line] = b[line].split()\n",
    "    for line_2 in b[line]:\n",
    "        c.append(int(line_2))\n",
    "print(len(c))\n",
    "print(len([q for q in c if q > 0]))\n",
    "print(min(c))\n",
    "print(max(c))\n",
    "print(sum(c))\n",
    "print(round((sum(c) / len(c)), 2))"
   ]
  },
  {
   "cell_type": "code",
   "execution_count": 57,
   "metadata": {},
   "outputs": [],
   "source": [
    "# H Решена\n",
    "\n",
    "a = str(input())\n",
    "b = str(input())\n",
    "c = str(input())\n",
    "first_set = set()\n",
    "second_set = set()\n",
    "tem = []\n",
    "res = []\n",
    "with open(file=a, mode=\"r+\", encoding=\"UTF-8\") as first:\n",
    "    tem = first.readlines()\n",
    "    for i in range(len(tem)):\n",
    "        tem[i] = tem[i].rstrip(\"\\n\")\n",
    "        tem[i] = tem[i].split()\n",
    "        for z in tem[i]:\n",
    "            first_set.add(z)\n",
    "with open(file=b, mode=\"r+\", encoding=\"UTF-8\") as second:\n",
    "    tem = second.readlines()\n",
    "    for i in range(len(tem)):\n",
    "        tem[i] = tem[i].rstrip(\"\\n\")\n",
    "        tem[i] = tem[i].split()\n",
    "        for z in tem[i]:\n",
    "            second_set.add(z)\n",
    "otvet = first_set.symmetric_difference(second_set)\n",
    "for i in otvet:\n",
    "    res.append(i + \"\\n\")\n",
    "otvet = sorted(res)\n",
    "otvet[-1] = otvet[-1].rstrip(\"\\n\")\n",
    "with open(file=c, mode=\"a+\", encoding=\"UTF-8\") as answer:\n",
    "    answer.writelines(otvet)"
   ]
  },
  {
   "cell_type": "code",
   "execution_count": 11,
   "metadata": {},
   "outputs": [
    {
     "name": "stdout",
     "output_type": "stream",
     "text": [
      "['    очень \\t\\t плохо форматированный       текст\\n', '\\n', '\\n', 'ну\\t\\tну\\t\\n', 'прямо\\n', '\\n', 'очень-очень\\n', '\\n', '\\t']\n"
     ]
    },
    {
     "ename": "TypeError",
     "evalue": "argument should be integer or None, not 'list'",
     "output_type": "error",
     "traceback": [
      "\u001b[1;31m---------------------------------------------------------------------------\u001b[0m",
      "\u001b[1;31mTypeError\u001b[0m                                 Traceback (most recent call last)",
      "\u001b[1;32mc:\\Users\\user\\YandexDisk\\Хендбук от яндекс\\9-lessons.ipynb Ячейка 20\u001b[0m line \u001b[0;36m1\n\u001b[0;32m     <a href='vscode-notebook-cell:/c%3A/Users/user/YandexDisk/%D0%A5%D0%B5%D0%BD%D0%B4%D0%B1%D1%83%D0%BA%20%D0%BE%D1%82%20%D1%8F%D0%BD%D0%B4%D0%B5%D0%BA%D1%81/9-lessons.ipynb#X25sZmlsZQ%3D%3D?line=16'>17</a>\u001b[0m     file_out\u001b[39m.\u001b[39mwritelines(d)\n\u001b[0;32m     <a href='vscode-notebook-cell:/c%3A/Users/user/YandexDisk/%D0%A5%D0%B5%D0%BD%D0%B4%D0%B1%D1%83%D0%BA%20%D0%BE%D1%82%20%D1%8F%D0%BD%D0%B4%D0%B5%D0%BA%D1%81/9-lessons.ipynb#X25sZmlsZQ%3D%3D?line=17'>18</a>\u001b[0m \u001b[39mwith\u001b[39;00m \u001b[39mopen\u001b[39m(file\u001b[39m=\u001b[39mb, mode\u001b[39m=\u001b[39m\u001b[39m\"\u001b[39m\u001b[39m+r\u001b[39m\u001b[39m\"\u001b[39m, encoding\u001b[39m=\u001b[39m\u001b[39m\"\u001b[39m\u001b[39mUTF-8\u001b[39m\u001b[39m\"\u001b[39m) \u001b[39mas\u001b[39;00m file_out:\n\u001b[1;32m---> <a href='vscode-notebook-cell:/c%3A/Users/user/YandexDisk/%D0%A5%D0%B5%D0%BD%D0%B4%D0%B1%D1%83%D0%BA%20%D0%BE%D1%82%20%D1%8F%D0%BD%D0%B4%D0%B5%D0%BA%D1%81/9-lessons.ipynb#X25sZmlsZQ%3D%3D?line=18'>19</a>\u001b[0m     z \u001b[39m=\u001b[39m file_out\u001b[39m.\u001b[39;49mreadlines(d)\n\u001b[0;32m     <a href='vscode-notebook-cell:/c%3A/Users/user/YandexDisk/%D0%A5%D0%B5%D0%BD%D0%B4%D0%B1%D1%83%D0%BA%20%D0%BE%D1%82%20%D1%8F%D0%BD%D0%B4%D0%B5%D0%BA%D1%81/9-lessons.ipynb#X25sZmlsZQ%3D%3D?line=19'>20</a>\u001b[0m \u001b[39mprint\u001b[39m(z)\n",
      "\u001b[1;31mTypeError\u001b[0m: argument should be integer or None, not 'list'"
     ]
    }
   ],
   "source": [
    "# I решена\n",
    "\n",
    "a = str(input())\n",
    "b = str(input())\n",
    "c = []\n",
    "d = []\n",
    "with open(file=a, mode=\"r+\", encoding=\"UTF-8\") as file_in:\n",
    "    c = file_in.readlines()\n",
    "print(c)\n",
    "for i in range(len(c)):\n",
    "    c[i] = c[i].replace(\"\\t\", '')\n",
    "    c[i] = c[i].split()\n",
    "    c[i] = \" \".join(c[i])\n",
    "    if c[i] != \"\":\n",
    "        d.append(c[i] + \"\\n\")\n",
    "with open(file=b, mode=\"+a\", encoding=\"UTF-8\") as file_out:\n",
    "    file_out.writelines(d)"
   ]
  },
  {
   "cell_type": "code",
   "execution_count": 20,
   "metadata": {},
   "outputs": [
    {
     "name": "stdout",
     "output_type": "stream",
     "text": [
      "['1 строка\\n', '2 строка\\n', '3 строка\\n', '4 строка\\n', '5 строка']\n",
      "4 строка\n",
      "5 строка\n"
     ]
    }
   ],
   "source": [
    "# J решена\n",
    "\n",
    "a = str(input())\n",
    "b = int(input())\n",
    "c = []\n",
    "with open(file=a, mode=\"r+\", encoding=\"UTF-8\") as file_in:\n",
    "    c = file_in.readlines()\n",
    "for i in range(len(c) - b, len(c)):\n",
    "    c[i] = c[i].rstrip(\"\\n\")\n",
    "    print(c[i])"
   ]
  },
  {
   "cell_type": "code",
   "execution_count": 39,
   "metadata": {},
   "outputs": [],
   "source": [
    "# k решена\n",
    "import json\n",
    "\n",
    "\n",
    "a = str(input())\n",
    "b = str(input())\n",
    "c = []\n",
    "d = []\n",
    "with open(file=a, mode=\"r+\", encoding=\"UTF-8\") as file_in:\n",
    "    c = file_in.readlines()\n",
    "for i in range(len(c)):\n",
    "    c[i] = c[i].rstrip('\\n')\n",
    "    c[i] = c[i].split()\n",
    "    for z in c[i]:\n",
    "        d.append(int(z))\n",
    "e = {}\n",
    "e[\"Число\"] = len(d)\n",
    "e[\"positive_count\"] = len([q for q in d if q > 0])\n",
    "e[\"min\"] = min(d)\n",
    "e[\"max\"] = max(d)\n",
    "e[\"sum\"] = sum(d)\n",
    "e[\"average\"] = round(sum(d) / len(d), 2)\n",
    "with open(file=b, mode=\"w\", encoding=\"UTF-8\") as file_out:\n",
    "    json.dump(e, file_out, ensure_ascii=False, indent=2)"
   ]
  },
  {
   "cell_type": "code",
   "execution_count": 14,
   "metadata": {},
   "outputs": [
    {
     "name": "stdout",
     "output_type": "stream",
     "text": [
      "[['650975472', '591084323', '629700', '1504180', '577023'], ['8460612246', '42161437', '29409368', '58531725', '5725268', '2198001838'], ['796451', '69358', '7195510', '975628465', '9756641'], ['44200289', '126541', '979391', '93479581', '291170', '28987042', '86139603']]\n"
     ]
    }
   ],
   "source": [
    "# L решена\n",
    "\n",
    "a = str(input())\n",
    "b = str(input())\n",
    "c = str(input())\n",
    "d = str(input())\n",
    "\n",
    "z = []\n",
    "with open(file=a, mode=\"r+\", encoding=\"UTF-8\") as file_in:\n",
    "    z = file_in.readlines()\n",
    "for i in range(len(z)):\n",
    "    z[i] = z[i].split()\n",
    "    b1 = []\n",
    "    c1 = []\n",
    "    d1 = []\n",
    "    for t in range(len(z[i])):\n",
    "        chet = 0\n",
    "        nechet = 0\n",
    "        for q in z[i][t]:\n",
    "            if q in [\"0\", \"2\", \"4\", \"6\", \"8\"]:\n",
    "                chet += 1\n",
    "            elif q in ['1', '3', \"5\", \"7\", \"9\"]:\n",
    "                nechet += 1\n",
    "        if chet > nechet:\n",
    "            b1.append(z[i][t])\n",
    "        elif nechet > chet:\n",
    "            c1.append(z[i][t])\n",
    "        else:\n",
    "            d1.append(z[i][t])\n",
    "    if b1 != []:\n",
    "        b1[-1] = b1[-1] + \"\\n\"\n",
    "    else:\n",
    "        b1 = [\"\\n\"]\n",
    "    if c1 != []:\n",
    "        c1[-1] = c1[-1] + \"\\n\"\n",
    "    else:\n",
    "        c1 = [\"\\n\"]\n",
    "    if d1 != []:\n",
    "        d1[-1] = d1[-1] + \"\\n\"\n",
    "    else:\n",
    "        d1 = [\"\\n\"]\n",
    "    b1 = \" \".join(b1)\n",
    "    c1 = \" \".join(c1)\n",
    "    d1 = \" \".join(d1)\n",
    "    with open(file=b, mode=\"a+\", encoding=\"UTF-8\") as file_one:\n",
    "        file_one.writelines(b1)\n",
    "    with open(file=c, mode=\"a+\", encoding=\"UTF-8\") as file_two:\n",
    "        file_two.writelines(c1)\n",
    "    with open(file=d, mode=\"a+\", encoding=\"UTF-8\") as file_three:\n",
    "        file_three.writelines(d1)"
   ]
  },
  {
   "cell_type": "code",
   "execution_count": 26,
   "metadata": {},
   "outputs": [],
   "source": [
    "# M Не рещена\n",
    "import json\n",
    "\n",
    "\n",
    "a = str(input())\n",
    "b = str(input()).split()\n",
    "c = str(input()).split()\n",
    "e = str(input()).split()\n",
    "records = {}\n",
    "with open(file=a, encoding=\"UTF-8\") as file_in:\n",
    "    records = json.load(file_in)\n",
    "records[b[0]] = b[2]\n",
    "records[c[0]] = c[2]\n",
    "records[e[0]] = e[2]\n",
    "with open(file=a, mode='w', encoding=\"UTF-8\") as file_out:\n",
    "    json.dump(records, file_out, ensure_ascii=False, indent=4)"
   ]
  },
  {
   "cell_type": "code",
   "execution_count": 73,
   "metadata": {},
   "outputs": [
    {
     "name": "stdout",
     "output_type": "stream",
     "text": [
      "[{'name': 'Ann', 'address': 'Flower st.'}, {'name': 'Bob', 'address': 'Summer st.', 'phone': '+7 (123) 456-78-90'}]\n",
      "[{'name': 'Ann', 'address': 'Awesome st.', 'phone': '+7 (098) 765-43-21'}, {'name': 'Bob', 'address': 'Winter st.'}]\n",
      "{'name': 'Ann', 'address': 'Flower st.'}\n",
      "{'name': 'Bob', 'address': 'Summer st.', 'phone': '+7 (123) 456-78-90'}\n",
      "Это новый список {'Ann': {'address': 'Flower st.'}, 'Bob': {'address': 'Summer st.', 'phone': '+7 (123) 456-78-90'}}\n",
      "{'name': 'Ann', 'address': 'Awesome st.', 'phone': '+7 (098) 765-43-21'}\n",
      "name\n",
      "address\n",
      "phone\n",
      "{'name': 'Bob', 'address': 'Winter st.'}\n",
      "name\n",
      "address\n",
      "Это новый список {'Ann': {'address': 'Flower st.', 'phone': '+7 (098) 765-43-21'}, 'Bob': {'address': 'Winter st.', 'phone': '+7 (123) 456-78-90'}}\n"
     ]
    }
   ],
   "source": [
    "# N Решена\n",
    "import json\n",
    "\n",
    "\n",
    "user = str(input())\n",
    "updates = str(input())\n",
    "records_user = {}\n",
    "records_updates = {}\n",
    "new_records = {}\n",
    "with open(file=user, mode='r+', encoding=\"UTF-8\") as file_user:\n",
    "    records_user = json.load(file_user)\n",
    "with open(file=updates, mode='r+', encoding=\"UTF-8\") as file_updates:\n",
    "    records_updates = json.load(file_updates)\n",
    "for i in range(len(records_user)):\n",
    "    new_records[records_user[i][\"name\"]] = {}\n",
    "    for z in records_user[i]:\n",
    "        if z != \"name\":\n",
    "            new_records[records_user[i][\"name\"]][z] = records_user[i][z]\n",
    "for b in range(len(records_updates)):\n",
    "    lar = records_updates[b]['name']\n",
    "    for k in records_updates[b]:\n",
    "        if k != 'name':\n",
    "            if k not in new_records[lar]:\n",
    "                new_records[lar][k] = records_updates[b][k]\n",
    "            elif records_updates[b][k] > new_records[lar][k]:\n",
    "                new_records[lar][k] = records_updates[b][k]\n",
    "with open(file=user, mode='w', encoding=\"UTF-8\") as file_comp:\n",
    "    json.dump(new_records, file_comp, ensure_ascii=False, indent=4)"
   ]
  },
  {
   "cell_type": "code",
   "execution_count": 94,
   "metadata": {},
   "outputs": [
    {
     "ename": "SyntaxError",
     "evalue": "positional argument follows keyword argument (2957305349.py, line 11)",
     "output_type": "error",
     "traceback": [
      "\u001b[1;36m  Cell \u001b[1;32mIn[94], line 11\u001b[1;36m\u001b[0m\n\u001b[1;33m    with open(file=a[r], mode='r+', encoding=\"UTF-8\", help) as file_in:\u001b[0m\n\u001b[1;37m                                                          ^\u001b[0m\n\u001b[1;31mSyntaxError\u001b[0m\u001b[1;31m:\u001b[0m positional argument follows keyword argument\n"
     ]
    }
   ],
   "source": [
    "# P Решена\n",
    "from sys import stdin\n",
    "\n",
    "\n",
    "a = stdin.readlines()\n",
    "for i in range(len(a)):\n",
    "    a[i] = a[i].rstrip(\"\\n\")\n",
    "zapros = a[0].lower()\n",
    "d = False\n",
    "for r in range(1, len(a)):\n",
    "    text = []\n",
    "    with open(file=a[r], mode='r+', encoding=\"UTF-8\") as file_in:\n",
    "        text = file_in.readlines()\n",
    "    for i in range(len(text)):\n",
    "        text[i] = text[i].replace(\"\\t\", '')\n",
    "        text[i] = text[i].split()\n",
    "        text[i] = \" \".join(text[i])\n",
    "    text2 = []\n",
    "    for i in range(len(text)):\n",
    "        if text[i] != \"\":\n",
    "            text2.append(text[i])\n",
    "    text2 = \" \".join(text2)\n",
    "    text2 = text2.lower()\n",
    "    if zapros in text2:\n",
    "        print(a[r])\n",
    "        d = True\n",
    "if d is False:\n",
    "    print(\"404. Not Found\")        "
   ]
  },
  {
   "cell_type": "code",
   "execution_count": 103,
   "metadata": {},
   "outputs": [
    {
     "ename": "TypeError",
     "evalue": "'str' object does not support item assignment",
     "output_type": "error",
     "traceback": [
      "\u001b[1;31m---------------------------------------------------------------------------\u001b[0m",
      "\u001b[1;31mTypeError\u001b[0m                                 Traceback (most recent call last)",
      "\u001b[1;32mc:\\Users\\user\\YandexDisk\\Хендбук от яндекс\\9-lessons.ipynb Ячейка 27\u001b[0m line \u001b[0;36m6\n\u001b[0;32m      <a href='vscode-notebook-cell:/c%3A/Users/user/YandexDisk/%D0%A5%D0%B5%D0%BD%D0%B4%D0%B1%D1%83%D0%BA%20%D0%BE%D1%82%20%D1%8F%D0%BD%D0%B4%D0%B5%D0%BA%D1%81/9-lessons.ipynb#X35sZmlsZQ%3D%3D?line=2'>3</a>\u001b[0m     a[\u001b[39m-\u001b[39m\u001b[39m1\u001b[39m] \u001b[39m=\u001b[39m \u001b[39m\"\u001b[39m\u001b[39m0\u001b[39m\u001b[39m\"\u001b[39m\n\u001b[0;32m      <a href='vscode-notebook-cell:/c%3A/Users/user/YandexDisk/%D0%A5%D0%B5%D0%BD%D0%B4%D0%B1%D1%83%D0%BA%20%D0%BE%D1%82%20%D1%8F%D0%BD%D0%B4%D0%B5%D0%BA%D1%81/9-lessons.ipynb#X35sZmlsZQ%3D%3D?line=4'>5</a>\u001b[0m a \u001b[39m=\u001b[39m \u001b[39m\"\u001b[39m\u001b[39m1, 2, 3\u001b[39m\u001b[39m\"\u001b[39m\n\u001b[1;32m----> <a href='vscode-notebook-cell:/c%3A/Users/user/YandexDisk/%D0%A5%D0%B5%D0%BD%D0%B4%D0%B1%D1%83%D0%BA%20%D0%BE%D1%82%20%D1%8F%D0%BD%D0%B4%D0%B5%D0%BA%D1%81/9-lessons.ipynb#X35sZmlsZQ%3D%3D?line=5'>6</a>\u001b[0m simpr(\u001b[39m1\u001b[39;49m)\n\u001b[0;32m      <a href='vscode-notebook-cell:/c%3A/Users/user/YandexDisk/%D0%A5%D0%B5%D0%BD%D0%B4%D0%B1%D1%83%D0%BA%20%D0%BE%D1%82%20%D1%8F%D0%BD%D0%B4%D0%B5%D0%BA%D1%81/9-lessons.ipynb#X35sZmlsZQ%3D%3D?line=6'>7</a>\u001b[0m \u001b[39mprint\u001b[39m(a)\n",
      "\u001b[1;32mc:\\Users\\user\\YandexDisk\\Хендбук от яндекс\\9-lessons.ipynb Ячейка 27\u001b[0m line \u001b[0;36m3\n\u001b[0;32m      <a href='vscode-notebook-cell:/c%3A/Users/user/YandexDisk/%D0%A5%D0%B5%D0%BD%D0%B4%D0%B1%D1%83%D0%BA%20%D0%BE%D1%82%20%D1%8F%D0%BD%D0%B4%D0%B5%D0%BA%D1%81/9-lessons.ipynb#X35sZmlsZQ%3D%3D?line=0'>1</a>\u001b[0m \u001b[39mdef\u001b[39;00m \u001b[39msimpr\u001b[39m(qwe):\n\u001b[0;32m      <a href='vscode-notebook-cell:/c%3A/Users/user/YandexDisk/%D0%A5%D0%B5%D0%BD%D0%B4%D0%B1%D1%83%D0%BA%20%D0%BE%D1%82%20%D1%8F%D0%BD%D0%B4%D0%B5%D0%BA%D1%81/9-lessons.ipynb#X35sZmlsZQ%3D%3D?line=1'>2</a>\u001b[0m     a \u001b[39m=\u001b[39m \u001b[39m\"\u001b[39m\u001b[39m123\u001b[39m\u001b[39m\"\u001b[39m\n\u001b[1;32m----> <a href='vscode-notebook-cell:/c%3A/Users/user/YandexDisk/%D0%A5%D0%B5%D0%BD%D0%B4%D0%B1%D1%83%D0%BA%20%D0%BE%D1%82%20%D1%8F%D0%BD%D0%B4%D0%B5%D0%BA%D1%81/9-lessons.ipynb#X35sZmlsZQ%3D%3D?line=2'>3</a>\u001b[0m     a[\u001b[39m-\u001b[39;49m\u001b[39m1\u001b[39;49m] \u001b[39m=\u001b[39m \u001b[39m\"\u001b[39m\u001b[39m0\u001b[39m\u001b[39m\"\u001b[39m\n",
      "\u001b[1;31mTypeError\u001b[0m: 'str' object does not support item assignment"
     ]
    }
   ],
   "source": [
    "def simpr(qwe):\n",
    "    a = \"123\"\n",
    "    a[-1] = \"0\"\n",
    "\n",
    "a = \"1, 2, 3\"\n",
    "simpr(1)\n",
    "print(a)"
   ]
  },
  {
   "cell_type": "code",
   "execution_count": null,
   "metadata": {},
   "outputs": [],
   "source": [
    "a = stdin.readlines()"
   ]
  }
 ],
 "metadata": {
  "kernelspec": {
   "display_name": "Python 3",
   "language": "python",
   "name": "python3"
  },
  "language_info": {
   "codemirror_mode": {
    "name": "ipython",
    "version": 3
   },
   "file_extension": ".py",
   "mimetype": "text/x-python",
   "name": "python",
   "nbconvert_exporter": "python",
   "pygments_lexer": "ipython3",
   "version": "3.11.9"
  },
  "orig_nbformat": 4
 },
 "nbformat": 4,
 "nbformat_minor": 2
}
